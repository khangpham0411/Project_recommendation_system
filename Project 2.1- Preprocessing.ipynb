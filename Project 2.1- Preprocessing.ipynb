{
 "cells": [
  {
   "cell_type": "code",
   "execution_count": 1,
   "id": "0923205c",
   "metadata": {},
   "outputs": [],
   "source": [
    "import numpy as np\n",
    "import pandas as pd\n",
    "import matplotlib.pyplot as plt "
   ]
  },
  {
   "cell_type": "markdown",
   "id": "11eec858",
   "metadata": {},
   "source": [
    "# Tiền xử lý file ProductRaw.csv"
   ]
  },
  {
   "cell_type": "code",
   "execution_count": 2,
   "id": "f9a9a445",
   "metadata": {},
   "outputs": [],
   "source": [
    "raw_product=pd.read_csv('ProductRaw.csv')"
   ]
  },
  {
   "cell_type": "code",
   "execution_count": 3,
   "id": "9b15c42c",
   "metadata": {},
   "outputs": [
    {
     "data": {
      "text/html": [
       "<div>\n",
       "<style scoped>\n",
       "    .dataframe tbody tr th:only-of-type {\n",
       "        vertical-align: middle;\n",
       "    }\n",
       "\n",
       "    .dataframe tbody tr th {\n",
       "        vertical-align: top;\n",
       "    }\n",
       "\n",
       "    .dataframe thead th {\n",
       "        text-align: right;\n",
       "    }\n",
       "</style>\n",
       "<table border=\"1\" class=\"dataframe\">\n",
       "  <thead>\n",
       "    <tr style=\"text-align: right;\">\n",
       "      <th></th>\n",
       "      <th>item_id</th>\n",
       "      <th>name</th>\n",
       "      <th>description</th>\n",
       "      <th>rating</th>\n",
       "      <th>price</th>\n",
       "      <th>list_price</th>\n",
       "      <th>brand</th>\n",
       "      <th>group</th>\n",
       "      <th>url</th>\n",
       "      <th>image</th>\n",
       "    </tr>\n",
       "  </thead>\n",
       "  <tbody>\n",
       "    <tr>\n",
       "      <th>0</th>\n",
       "      <td>48102821</td>\n",
       "      <td>Tai nghe Bluetooth Inpods 12 - Cảm biến vân ta...</td>\n",
       "      <td>THÔNG TIN CHI TIẾT\\nDung lượng pin 300\\nThời g...</td>\n",
       "      <td>4.0</td>\n",
       "      <td>77000</td>\n",
       "      <td>300000</td>\n",
       "      <td>OEM</td>\n",
       "      <td>Thiết Bị Số - Phụ Kiện Số/Thiết Bị Âm Thanh và...</td>\n",
       "      <td>https://tai-nghe-bluetooth-inpods-12-cam-bien-...</td>\n",
       "      <td>https://salt.tikicdn.com/cache/280x280/ts/prod...</td>\n",
       "    </tr>\n",
       "    <tr>\n",
       "      <th>1</th>\n",
       "      <td>52333193</td>\n",
       "      <td>Tai nghe bluetooth không dây F9 True wireless ...</td>\n",
       "      <td>THÔNG TIN CHI TIẾT\\nDung lượng pin 2000mah\\nTh...</td>\n",
       "      <td>4.5</td>\n",
       "      <td>132000</td>\n",
       "      <td>750000</td>\n",
       "      <td>OEM</td>\n",
       "      <td>Thiết Bị Số - Phụ Kiện Số/Thiết Bị Âm Thanh và...</td>\n",
       "      <td>https://tai-nghe-bluetooth-khong-day-f9-true-w...</td>\n",
       "      <td>https://salt.tikicdn.com/cache/280x280/ts/prod...</td>\n",
       "    </tr>\n",
       "    <tr>\n",
       "      <th>2</th>\n",
       "      <td>299461</td>\n",
       "      <td>Chuột Không Dây Logitech M331 Silent - Hàng Ch...</td>\n",
       "      <td>THÔNG TIN CHI TIẾT\\nThương hiệu Logitech\\nĐộ p...</td>\n",
       "      <td>4.8</td>\n",
       "      <td>299000</td>\n",
       "      <td>399000</td>\n",
       "      <td>Logitech</td>\n",
       "      <td>Thiết Bị Số - Phụ Kiện Số/Phụ kiện máy tính và...</td>\n",
       "      <td>https://chuot-khong-day-logitech-m331-silent-p...</td>\n",
       "      <td>https://salt.tikicdn.com/cache/280x280/media/c...</td>\n",
       "    </tr>\n",
       "    <tr>\n",
       "      <th>3</th>\n",
       "      <td>57440329</td>\n",
       "      <td>Loa Bluetooth 5.0 Kiêm Đồng Hồ Báo Thức - [[ 2...</td>\n",
       "      <td>THÔNG TIN CHI TIẾT\\nThương hiệu Acome\\nXuất xứ...</td>\n",
       "      <td>4.7</td>\n",
       "      <td>149000</td>\n",
       "      <td>350000</td>\n",
       "      <td>Acome</td>\n",
       "      <td>Thiết Bị Số - Phụ Kiện Số/Thiết Bị Âm Thanh và...</td>\n",
       "      <td>https://loa-bluetooth-5-0-kiem-dong-ho-bao-thu...</td>\n",
       "      <td>https://salt.tikicdn.com/cache/280x280/ts/prod...</td>\n",
       "    </tr>\n",
       "    <tr>\n",
       "      <th>4</th>\n",
       "      <td>38458616</td>\n",
       "      <td>Tai Nghe Bluetooth Apple AirPods Pro True Wire...</td>\n",
       "      <td>THÔNG TIN CHI TIẾT\\nThương hiệu Apple\\nXuất xứ...</td>\n",
       "      <td>4.8</td>\n",
       "      <td>5090000</td>\n",
       "      <td>8500000</td>\n",
       "      <td>Apple</td>\n",
       "      <td>Thiết Bị Số - Phụ Kiện Số/Thiết Bị Âm Thanh và...</td>\n",
       "      <td>https://tai-nghe-bluetooth-apple-airpods-pro-t...</td>\n",
       "      <td>https://salt.tikicdn.com/cache/280x280/ts/prod...</td>\n",
       "    </tr>\n",
       "    <tr>\n",
       "      <th>...</th>\n",
       "      <td>...</td>\n",
       "      <td>...</td>\n",
       "      <td>...</td>\n",
       "      <td>...</td>\n",
       "      <td>...</td>\n",
       "      <td>...</td>\n",
       "      <td>...</td>\n",
       "      <td>...</td>\n",
       "      <td>...</td>\n",
       "      <td>...</td>\n",
       "    </tr>\n",
       "    <tr>\n",
       "      <th>4399</th>\n",
       "      <td>14497425</td>\n",
       "      <td>Máy Lạnh LG Inverter 1 HP V10APH</td>\n",
       "      <td>THÔNG TIN CHI TIẾT\\nCông suất làm lạnh 1.0HP\\n...</td>\n",
       "      <td>3.0</td>\n",
       "      <td>7790000</td>\n",
       "      <td>11090000</td>\n",
       "      <td>LG</td>\n",
       "      <td>Điện Tử - Điện Lạnh/Máy lạnh - Máy điều hòa</td>\n",
       "      <td>https://may-lanh-lg-inverter-1-hp-v10aph-p1449...</td>\n",
       "      <td>https://salt.tikicdn.com/cache/280x280/ts/prod...</td>\n",
       "    </tr>\n",
       "    <tr>\n",
       "      <th>4400</th>\n",
       "      <td>52294251</td>\n",
       "      <td>Micro Không Dây Alpha Works A1 Chính Hãng</td>\n",
       "      <td>THÔNG TIN CHI TIẾT\\nThương hiệu OEM\\nXuất xứ t...</td>\n",
       "      <td>0.0</td>\n",
       "      <td>1450000</td>\n",
       "      <td>1890000</td>\n",
       "      <td>OEM</td>\n",
       "      <td>Điện Tử - Điện Lạnh/Âm thanh &amp; Phụ kiện Tivi/M...</td>\n",
       "      <td>https://micro-khong-day-alpha-works-a1-chinh-h...</td>\n",
       "      <td>https://salt.tikicdn.com/cache/280x280/ts/prod...</td>\n",
       "    </tr>\n",
       "    <tr>\n",
       "      <th>4401</th>\n",
       "      <td>29246309</td>\n",
       "      <td>Máy sấy Electrolux 8 Kg EDV805JQSA</td>\n",
       "      <td>THÔNG TIN CHI TIẾT\\nBảng điều khiển Điều khiển...</td>\n",
       "      <td>4.4</td>\n",
       "      <td>8790000</td>\n",
       "      <td>11290000</td>\n",
       "      <td>Electrolux</td>\n",
       "      <td>Điện Tử - Điện Lạnh/Máy sấy quần áo</td>\n",
       "      <td>https://may-say-electrolux-8-kg-edv805jqsa-p29...</td>\n",
       "      <td>https://salt.tikicdn.com/cache/280x280/ts/prod...</td>\n",
       "    </tr>\n",
       "    <tr>\n",
       "      <th>4402</th>\n",
       "      <td>48574854</td>\n",
       "      <td>Bộ Chia 2 Pacific Dùng Chia Truyền Hình Cáp, A...</td>\n",
       "      <td>THÔNG TIN CHI TIẾT\\nThương hiệu Pacific\\nXuất ...</td>\n",
       "      <td>5.0</td>\n",
       "      <td>34000</td>\n",
       "      <td>49000</td>\n",
       "      <td>Pacific</td>\n",
       "      <td>Điện Tử - Điện Lạnh/Âm thanh &amp; Phụ kiện Tivi/P...</td>\n",
       "      <td>https://bo-chia-2-pacific-dung-chia-truyen-hin...</td>\n",
       "      <td>https://salt.tikicdn.com/cache/280x280/ts/prod...</td>\n",
       "    </tr>\n",
       "    <tr>\n",
       "      <th>4403</th>\n",
       "      <td>60228865</td>\n",
       "      <td>Micro Đôi Karaoke - Micro Không Dây MV 01 - Hà...</td>\n",
       "      <td>THÔNG TIN CHI TIẾT\\nThương hiệu Shubole\\nXuất ...</td>\n",
       "      <td>4.0</td>\n",
       "      <td>360000</td>\n",
       "      <td>500000</td>\n",
       "      <td>Shubole</td>\n",
       "      <td>Điện Tử - Điện Lạnh/Âm thanh &amp; Phụ kiện Tivi/M...</td>\n",
       "      <td>https://micro-doi-karaoke-micro-khong-day-mv-0...</td>\n",
       "      <td>https://salt.tikicdn.com/cache/280x280/ts/prod...</td>\n",
       "    </tr>\n",
       "  </tbody>\n",
       "</table>\n",
       "<p>4404 rows × 10 columns</p>\n",
       "</div>"
      ],
      "text/plain": [
       "       item_id                                               name  \\\n",
       "0     48102821  Tai nghe Bluetooth Inpods 12 - Cảm biến vân ta...   \n",
       "1     52333193  Tai nghe bluetooth không dây F9 True wireless ...   \n",
       "2       299461  Chuột Không Dây Logitech M331 Silent - Hàng Ch...   \n",
       "3     57440329  Loa Bluetooth 5.0 Kiêm Đồng Hồ Báo Thức - [[ 2...   \n",
       "4     38458616  Tai Nghe Bluetooth Apple AirPods Pro True Wire...   \n",
       "...        ...                                                ...   \n",
       "4399  14497425                   Máy Lạnh LG Inverter 1 HP V10APH   \n",
       "4400  52294251          Micro Không Dây Alpha Works A1 Chính Hãng   \n",
       "4401  29246309                 Máy sấy Electrolux 8 Kg EDV805JQSA   \n",
       "4402  48574854  Bộ Chia 2 Pacific Dùng Chia Truyền Hình Cáp, A...   \n",
       "4403  60228865  Micro Đôi Karaoke - Micro Không Dây MV 01 - Hà...   \n",
       "\n",
       "                                            description  rating    price  \\\n",
       "0     THÔNG TIN CHI TIẾT\\nDung lượng pin 300\\nThời g...     4.0    77000   \n",
       "1     THÔNG TIN CHI TIẾT\\nDung lượng pin 2000mah\\nTh...     4.5   132000   \n",
       "2     THÔNG TIN CHI TIẾT\\nThương hiệu Logitech\\nĐộ p...     4.8   299000   \n",
       "3     THÔNG TIN CHI TIẾT\\nThương hiệu Acome\\nXuất xứ...     4.7   149000   \n",
       "4     THÔNG TIN CHI TIẾT\\nThương hiệu Apple\\nXuất xứ...     4.8  5090000   \n",
       "...                                                 ...     ...      ...   \n",
       "4399  THÔNG TIN CHI TIẾT\\nCông suất làm lạnh 1.0HP\\n...     3.0  7790000   \n",
       "4400  THÔNG TIN CHI TIẾT\\nThương hiệu OEM\\nXuất xứ t...     0.0  1450000   \n",
       "4401  THÔNG TIN CHI TIẾT\\nBảng điều khiển Điều khiển...     4.4  8790000   \n",
       "4402  THÔNG TIN CHI TIẾT\\nThương hiệu Pacific\\nXuất ...     5.0    34000   \n",
       "4403  THÔNG TIN CHI TIẾT\\nThương hiệu Shubole\\nXuất ...     4.0   360000   \n",
       "\n",
       "      list_price       brand  \\\n",
       "0         300000         OEM   \n",
       "1         750000         OEM   \n",
       "2         399000    Logitech   \n",
       "3         350000       Acome   \n",
       "4        8500000       Apple   \n",
       "...          ...         ...   \n",
       "4399    11090000          LG   \n",
       "4400     1890000         OEM   \n",
       "4401    11290000  Electrolux   \n",
       "4402       49000     Pacific   \n",
       "4403      500000     Shubole   \n",
       "\n",
       "                                                  group  \\\n",
       "0     Thiết Bị Số - Phụ Kiện Số/Thiết Bị Âm Thanh và...   \n",
       "1     Thiết Bị Số - Phụ Kiện Số/Thiết Bị Âm Thanh và...   \n",
       "2     Thiết Bị Số - Phụ Kiện Số/Phụ kiện máy tính và...   \n",
       "3     Thiết Bị Số - Phụ Kiện Số/Thiết Bị Âm Thanh và...   \n",
       "4     Thiết Bị Số - Phụ Kiện Số/Thiết Bị Âm Thanh và...   \n",
       "...                                                 ...   \n",
       "4399        Điện Tử - Điện Lạnh/Máy lạnh - Máy điều hòa   \n",
       "4400  Điện Tử - Điện Lạnh/Âm thanh & Phụ kiện Tivi/M...   \n",
       "4401                Điện Tử - Điện Lạnh/Máy sấy quần áo   \n",
       "4402  Điện Tử - Điện Lạnh/Âm thanh & Phụ kiện Tivi/P...   \n",
       "4403  Điện Tử - Điện Lạnh/Âm thanh & Phụ kiện Tivi/M...   \n",
       "\n",
       "                                                    url  \\\n",
       "0     https://tai-nghe-bluetooth-inpods-12-cam-bien-...   \n",
       "1     https://tai-nghe-bluetooth-khong-day-f9-true-w...   \n",
       "2     https://chuot-khong-day-logitech-m331-silent-p...   \n",
       "3     https://loa-bluetooth-5-0-kiem-dong-ho-bao-thu...   \n",
       "4     https://tai-nghe-bluetooth-apple-airpods-pro-t...   \n",
       "...                                                 ...   \n",
       "4399  https://may-lanh-lg-inverter-1-hp-v10aph-p1449...   \n",
       "4400  https://micro-khong-day-alpha-works-a1-chinh-h...   \n",
       "4401  https://may-say-electrolux-8-kg-edv805jqsa-p29...   \n",
       "4402  https://bo-chia-2-pacific-dung-chia-truyen-hin...   \n",
       "4403  https://micro-doi-karaoke-micro-khong-day-mv-0...   \n",
       "\n",
       "                                                  image  \n",
       "0     https://salt.tikicdn.com/cache/280x280/ts/prod...  \n",
       "1     https://salt.tikicdn.com/cache/280x280/ts/prod...  \n",
       "2     https://salt.tikicdn.com/cache/280x280/media/c...  \n",
       "3     https://salt.tikicdn.com/cache/280x280/ts/prod...  \n",
       "4     https://salt.tikicdn.com/cache/280x280/ts/prod...  \n",
       "...                                                 ...  \n",
       "4399  https://salt.tikicdn.com/cache/280x280/ts/prod...  \n",
       "4400  https://salt.tikicdn.com/cache/280x280/ts/prod...  \n",
       "4401  https://salt.tikicdn.com/cache/280x280/ts/prod...  \n",
       "4402  https://salt.tikicdn.com/cache/280x280/ts/prod...  \n",
       "4403  https://salt.tikicdn.com/cache/280x280/ts/prod...  \n",
       "\n",
       "[4404 rows x 10 columns]"
      ]
     },
     "execution_count": 3,
     "metadata": {},
     "output_type": "execute_result"
    }
   ],
   "source": [
    "raw_product"
   ]
  },
  {
   "cell_type": "code",
   "execution_count": 4,
   "id": "95cc80d1",
   "metadata": {},
   "outputs": [
    {
     "name": "stdout",
     "output_type": "stream",
     "text": [
      "<class 'pandas.core.frame.DataFrame'>\n",
      "RangeIndex: 4404 entries, 0 to 4403\n",
      "Data columns (total 10 columns):\n",
      " #   Column       Non-Null Count  Dtype  \n",
      "---  ------       --------------  -----  \n",
      " 0   item_id      4404 non-null   int64  \n",
      " 1   name         4404 non-null   object \n",
      " 2   description  4401 non-null   object \n",
      " 3   rating       4404 non-null   float64\n",
      " 4   price        4404 non-null   int64  \n",
      " 5   list_price   4404 non-null   int64  \n",
      " 6   brand        4404 non-null   object \n",
      " 7   group        4404 non-null   object \n",
      " 8   url          4404 non-null   object \n",
      " 9   image        4404 non-null   object \n",
      "dtypes: float64(1), int64(3), object(6)\n",
      "memory usage: 344.2+ KB\n"
     ]
    }
   ],
   "source": [
    "raw_product.info()"
   ]
  },
  {
   "cell_type": "code",
   "execution_count": 5,
   "id": "b105cd67",
   "metadata": {},
   "outputs": [],
   "source": [
    "# Nhận xét: description có giá trị null"
   ]
  },
  {
   "cell_type": "markdown",
   "id": "2e0bea9c",
   "metadata": {},
   "source": [
    "## Xóa giá trị null"
   ]
  },
  {
   "cell_type": "code",
   "execution_count": 6,
   "id": "e3f824df",
   "metadata": {},
   "outputs": [],
   "source": [
    "raw_product=raw_product.dropna()"
   ]
  },
  {
   "cell_type": "code",
   "execution_count": 7,
   "id": "d7926e94",
   "metadata": {},
   "outputs": [
    {
     "name": "stdout",
     "output_type": "stream",
     "text": [
      "<class 'pandas.core.frame.DataFrame'>\n",
      "Int64Index: 4401 entries, 0 to 4403\n",
      "Data columns (total 10 columns):\n",
      " #   Column       Non-Null Count  Dtype  \n",
      "---  ------       --------------  -----  \n",
      " 0   item_id      4401 non-null   int64  \n",
      " 1   name         4401 non-null   object \n",
      " 2   description  4401 non-null   object \n",
      " 3   rating       4401 non-null   float64\n",
      " 4   price        4401 non-null   int64  \n",
      " 5   list_price   4401 non-null   int64  \n",
      " 6   brand        4401 non-null   object \n",
      " 7   group        4401 non-null   object \n",
      " 8   url          4401 non-null   object \n",
      " 9   image        4401 non-null   object \n",
      "dtypes: float64(1), int64(3), object(6)\n",
      "memory usage: 378.2+ KB\n"
     ]
    }
   ],
   "source": [
    "raw_product.info()"
   ]
  },
  {
   "cell_type": "markdown",
   "id": "cbc835a0",
   "metadata": {},
   "source": [
    "## Xóa giá trị trùng lặp"
   ]
  },
  {
   "cell_type": "code",
   "execution_count": 8,
   "id": "b5e83fc0",
   "metadata": {},
   "outputs": [
    {
     "name": "stderr",
     "output_type": "stream",
     "text": [
      "c:\\users\\admin\\appdata\\local\\programs\\python\\python36\\lib\\site-packages\\ipykernel_launcher.py:1: SettingWithCopyWarning: \n",
      "A value is trying to be set on a copy of a slice from a DataFrame\n",
      "\n",
      "See the caveats in the documentation: https://pandas.pydata.org/pandas-docs/stable/user_guide/indexing.html#returning-a-view-versus-a-copy\n",
      "  \"\"\"Entry point for launching an IPython kernel.\n"
     ]
    }
   ],
   "source": [
    "raw_product.drop_duplicates(inplace=True)"
   ]
  },
  {
   "cell_type": "code",
   "execution_count": 9,
   "id": "110712cf",
   "metadata": {},
   "outputs": [
    {
     "data": {
      "text/html": [
       "<div>\n",
       "<style scoped>\n",
       "    .dataframe tbody tr th:only-of-type {\n",
       "        vertical-align: middle;\n",
       "    }\n",
       "\n",
       "    .dataframe tbody tr th {\n",
       "        vertical-align: top;\n",
       "    }\n",
       "\n",
       "    .dataframe thead th {\n",
       "        text-align: right;\n",
       "    }\n",
       "</style>\n",
       "<table border=\"1\" class=\"dataframe\">\n",
       "  <thead>\n",
       "    <tr style=\"text-align: right;\">\n",
       "      <th></th>\n",
       "      <th>rating</th>\n",
       "      <th>price</th>\n",
       "      <th>list_price</th>\n",
       "    </tr>\n",
       "  </thead>\n",
       "  <tbody>\n",
       "    <tr>\n",
       "      <th>count</th>\n",
       "      <td>4370.000000</td>\n",
       "      <td>4.370000e+03</td>\n",
       "      <td>4.370000e+03</td>\n",
       "    </tr>\n",
       "    <tr>\n",
       "      <th>mean</th>\n",
       "      <td>3.673432</td>\n",
       "      <td>2.764025e+06</td>\n",
       "      <td>3.894278e+06</td>\n",
       "    </tr>\n",
       "    <tr>\n",
       "      <th>std</th>\n",
       "      <td>1.795803</td>\n",
       "      <td>5.545781e+06</td>\n",
       "      <td>7.903281e+06</td>\n",
       "    </tr>\n",
       "    <tr>\n",
       "      <th>min</th>\n",
       "      <td>0.000000</td>\n",
       "      <td>7.000000e+03</td>\n",
       "      <td>1.200000e+04</td>\n",
       "    </tr>\n",
       "    <tr>\n",
       "      <th>25%</th>\n",
       "      <td>3.800000</td>\n",
       "      <td>1.500000e+05</td>\n",
       "      <td>2.790000e+05</td>\n",
       "    </tr>\n",
       "    <tr>\n",
       "      <th>50%</th>\n",
       "      <td>4.500000</td>\n",
       "      <td>4.865005e+05</td>\n",
       "      <td>7.900000e+05</td>\n",
       "    </tr>\n",
       "    <tr>\n",
       "      <th>75%</th>\n",
       "      <td>4.800000</td>\n",
       "      <td>2.679000e+06</td>\n",
       "      <td>3.590000e+06</td>\n",
       "    </tr>\n",
       "    <tr>\n",
       "      <th>max</th>\n",
       "      <td>5.000000</td>\n",
       "      <td>6.269000e+07</td>\n",
       "      <td>8.299000e+07</td>\n",
       "    </tr>\n",
       "  </tbody>\n",
       "</table>\n",
       "</div>"
      ],
      "text/plain": [
       "            rating         price    list_price\n",
       "count  4370.000000  4.370000e+03  4.370000e+03\n",
       "mean      3.673432  2.764025e+06  3.894278e+06\n",
       "std       1.795803  5.545781e+06  7.903281e+06\n",
       "min       0.000000  7.000000e+03  1.200000e+04\n",
       "25%       3.800000  1.500000e+05  2.790000e+05\n",
       "50%       4.500000  4.865005e+05  7.900000e+05\n",
       "75%       4.800000  2.679000e+06  3.590000e+06\n",
       "max       5.000000  6.269000e+07  8.299000e+07"
      ]
     },
     "execution_count": 9,
     "metadata": {},
     "output_type": "execute_result"
    }
   ],
   "source": [
    "raw_product[['rating','price','list_price']].describe()"
   ]
  },
  {
   "cell_type": "code",
   "execution_count": 10,
   "id": "f206e730",
   "metadata": {},
   "outputs": [],
   "source": [
    "raw_product=raw_product.reset_index(drop=True)"
   ]
  },
  {
   "cell_type": "code",
   "execution_count": 11,
   "id": "4e89b861",
   "metadata": {},
   "outputs": [],
   "source": [
    "raw_product.to_csv('Product.csv',encoding='utf-8-sig')"
   ]
  },
  {
   "cell_type": "markdown",
   "id": "6b3928a3",
   "metadata": {},
   "source": [
    "# Tiền xử lý ReviewRaw.csv"
   ]
  },
  {
   "cell_type": "code",
   "execution_count": 12,
   "id": "0fcbf9a9",
   "metadata": {},
   "outputs": [],
   "source": [
    "raw_review=pd.read_csv('ReviewRaw.csv')"
   ]
  },
  {
   "cell_type": "code",
   "execution_count": 13,
   "id": "991dd126",
   "metadata": {},
   "outputs": [
    {
     "data": {
      "text/html": [
       "<div>\n",
       "<style scoped>\n",
       "    .dataframe tbody tr th:only-of-type {\n",
       "        vertical-align: middle;\n",
       "    }\n",
       "\n",
       "    .dataframe tbody tr th {\n",
       "        vertical-align: top;\n",
       "    }\n",
       "\n",
       "    .dataframe thead th {\n",
       "        text-align: right;\n",
       "    }\n",
       "</style>\n",
       "<table border=\"1\" class=\"dataframe\">\n",
       "  <thead>\n",
       "    <tr style=\"text-align: right;\">\n",
       "      <th></th>\n",
       "      <th>customer_id</th>\n",
       "      <th>product_id</th>\n",
       "      <th>name</th>\n",
       "      <th>full_name</th>\n",
       "      <th>created_time</th>\n",
       "      <th>rating</th>\n",
       "      <th>title</th>\n",
       "      <th>content</th>\n",
       "    </tr>\n",
       "  </thead>\n",
       "  <tbody>\n",
       "    <tr>\n",
       "      <th>0</th>\n",
       "      <td>709310</td>\n",
       "      <td>10001012</td>\n",
       "      <td>Lân Nguyễn Hoàng</td>\n",
       "      <td>Lân Nguyễn Hoàng</td>\n",
       "      <td>NaN</td>\n",
       "      <td>3</td>\n",
       "      <td>Ko dùng đc thẻ nhớ</td>\n",
       "      <td>Lúcđầu quên thông tin nên dùng 512gb thì ko đc...</td>\n",
       "    </tr>\n",
       "    <tr>\n",
       "      <th>1</th>\n",
       "      <td>10701688</td>\n",
       "      <td>10001012</td>\n",
       "      <td>Nguyễn Khánh Hòa</td>\n",
       "      <td>Nguyễn Khánh Hòa</td>\n",
       "      <td>NaN</td>\n",
       "      <td>5</td>\n",
       "      <td>Cực kì hài lòng</td>\n",
       "      <td>Tiki giao hàng nhanh. Sản phẩm đúng như mô tả,...</td>\n",
       "    </tr>\n",
       "    <tr>\n",
       "      <th>2</th>\n",
       "      <td>11763074</td>\n",
       "      <td>10001012</td>\n",
       "      <td>Toàn Phạm Khánh</td>\n",
       "      <td>Toàn Phạm Khánh</td>\n",
       "      <td>2019-04-17 15:42:45</td>\n",
       "      <td>5</td>\n",
       "      <td>Cực kì hài lòng</td>\n",
       "      <td>chất lượng camera rõ nét, chống mưa nắng tuyệt...</td>\n",
       "    </tr>\n",
       "    <tr>\n",
       "      <th>3</th>\n",
       "      <td>9909549</td>\n",
       "      <td>10001012</td>\n",
       "      <td>Nguyen Quang Minh</td>\n",
       "      <td>NaN</td>\n",
       "      <td>NaN</td>\n",
       "      <td>5</td>\n",
       "      <td>Rất hài lòng</td>\n",
       "      <td>Hàng được đóng gói cẩn thận, giao hàng nhanh ,...</td>\n",
       "    </tr>\n",
       "    <tr>\n",
       "      <th>4</th>\n",
       "      <td>1827148</td>\n",
       "      <td>10001012</td>\n",
       "      <td>Phạm Bá Đức</td>\n",
       "      <td>Phạm Bá Đức</td>\n",
       "      <td>NaN</td>\n",
       "      <td>5</td>\n",
       "      <td>Cực kì hài lòng</td>\n",
       "      <td>dễ cài đặt, chất lượng tốt, chế độ xem hồng ng...</td>\n",
       "    </tr>\n",
       "    <tr>\n",
       "      <th>...</th>\n",
       "      <td>...</td>\n",
       "      <td>...</td>\n",
       "      <td>...</td>\n",
       "      <td>...</td>\n",
       "      <td>...</td>\n",
       "      <td>...</td>\n",
       "      <td>...</td>\n",
       "      <td>...</td>\n",
       "    </tr>\n",
       "    <tr>\n",
       "      <th>364094</th>\n",
       "      <td>16820553</td>\n",
       "      <td>9996258</td>\n",
       "      <td>Quang Hng</td>\n",
       "      <td>Quang Hng</td>\n",
       "      <td>NaN</td>\n",
       "      <td>5</td>\n",
       "      <td>Cực kì hài lòng</td>\n",
       "      <td>NaN</td>\n",
       "    </tr>\n",
       "    <tr>\n",
       "      <th>364095</th>\n",
       "      <td>5888640</td>\n",
       "      <td>9996258</td>\n",
       "      <td>Phan Thanh Tú</td>\n",
       "      <td>Phan Thanh Tú</td>\n",
       "      <td>NaN</td>\n",
       "      <td>5</td>\n",
       "      <td>Cực kì hài lòng</td>\n",
       "      <td>NaN</td>\n",
       "    </tr>\n",
       "    <tr>\n",
       "      <th>364096</th>\n",
       "      <td>12246414</td>\n",
       "      <td>9996258</td>\n",
       "      <td>Nguyên Hồng</td>\n",
       "      <td>Nguyên Hồng</td>\n",
       "      <td>NaN</td>\n",
       "      <td>5</td>\n",
       "      <td>Cực kì hài lòng</td>\n",
       "      <td>NaN</td>\n",
       "    </tr>\n",
       "    <tr>\n",
       "      <th>364097</th>\n",
       "      <td>14309619</td>\n",
       "      <td>9996258</td>\n",
       "      <td>Justin H Chiem</td>\n",
       "      <td>Justin H Chiem</td>\n",
       "      <td>NaN</td>\n",
       "      <td>5</td>\n",
       "      <td>Cực kì hài lòng</td>\n",
       "      <td>NaN</td>\n",
       "    </tr>\n",
       "    <tr>\n",
       "      <th>364098</th>\n",
       "      <td>7948382</td>\n",
       "      <td>9996258</td>\n",
       "      <td>Lê Gia Dũng</td>\n",
       "      <td>Lê Gia Dũng</td>\n",
       "      <td>2018-09-07 20:36:07</td>\n",
       "      <td>5</td>\n",
       "      <td>Cực kì hài lòng</td>\n",
       "      <td>NaN</td>\n",
       "    </tr>\n",
       "  </tbody>\n",
       "</table>\n",
       "<p>364099 rows × 8 columns</p>\n",
       "</div>"
      ],
      "text/plain": [
       "        customer_id  product_id               name         full_name  \\\n",
       "0            709310    10001012   Lân Nguyễn Hoàng  Lân Nguyễn Hoàng   \n",
       "1          10701688    10001012   Nguyễn Khánh Hòa  Nguyễn Khánh Hòa   \n",
       "2          11763074    10001012    Toàn Phạm Khánh   Toàn Phạm Khánh   \n",
       "3           9909549    10001012  Nguyen Quang Minh               NaN   \n",
       "4           1827148    10001012        Phạm Bá Đức       Phạm Bá Đức   \n",
       "...             ...         ...                ...               ...   \n",
       "364094     16820553     9996258          Quang Hng         Quang Hng   \n",
       "364095      5888640     9996258      Phan Thanh Tú     Phan Thanh Tú   \n",
       "364096     12246414     9996258        Nguyên Hồng       Nguyên Hồng   \n",
       "364097     14309619     9996258     Justin H Chiem    Justin H Chiem   \n",
       "364098      7948382     9996258        Lê Gia Dũng       Lê Gia Dũng   \n",
       "\n",
       "               created_time  rating               title  \\\n",
       "0                       NaN       3  Ko dùng đc thẻ nhớ   \n",
       "1                       NaN       5     Cực kì hài lòng   \n",
       "2       2019-04-17 15:42:45       5     Cực kì hài lòng   \n",
       "3                       NaN       5        Rất hài lòng   \n",
       "4                       NaN       5     Cực kì hài lòng   \n",
       "...                     ...     ...                 ...   \n",
       "364094                  NaN       5     Cực kì hài lòng   \n",
       "364095                  NaN       5     Cực kì hài lòng   \n",
       "364096                  NaN       5     Cực kì hài lòng   \n",
       "364097                  NaN       5     Cực kì hài lòng   \n",
       "364098  2018-09-07 20:36:07       5     Cực kì hài lòng   \n",
       "\n",
       "                                                  content  \n",
       "0       Lúcđầu quên thông tin nên dùng 512gb thì ko đc...  \n",
       "1       Tiki giao hàng nhanh. Sản phẩm đúng như mô tả,...  \n",
       "2       chất lượng camera rõ nét, chống mưa nắng tuyệt...  \n",
       "3       Hàng được đóng gói cẩn thận, giao hàng nhanh ,...  \n",
       "4       dễ cài đặt, chất lượng tốt, chế độ xem hồng ng...  \n",
       "...                                                   ...  \n",
       "364094                                                NaN  \n",
       "364095                                                NaN  \n",
       "364096                                                NaN  \n",
       "364097                                                NaN  \n",
       "364098                                                NaN  \n",
       "\n",
       "[364099 rows x 8 columns]"
      ]
     },
     "execution_count": 13,
     "metadata": {},
     "output_type": "execute_result"
    }
   ],
   "source": [
    "raw_review"
   ]
  },
  {
   "cell_type": "code",
   "execution_count": 14,
   "id": "440b8c4d",
   "metadata": {},
   "outputs": [
    {
     "name": "stdout",
     "output_type": "stream",
     "text": [
      "<class 'pandas.core.frame.DataFrame'>\n",
      "RangeIndex: 364099 entries, 0 to 364098\n",
      "Data columns (total 8 columns):\n",
      " #   Column        Non-Null Count   Dtype \n",
      "---  ------        --------------   ----- \n",
      " 0   customer_id   364099 non-null  int64 \n",
      " 1   product_id    364099 non-null  int64 \n",
      " 2   name          363669 non-null  object\n",
      " 3   full_name     329471 non-null  object\n",
      " 4   created_time  117340 non-null  object\n",
      " 5   rating        364099 non-null  int64 \n",
      " 6   title         364070 non-null  object\n",
      " 7   content       165794 non-null  object\n",
      "dtypes: int64(3), object(5)\n",
      "memory usage: 22.2+ MB\n"
     ]
    }
   ],
   "source": [
    "raw_review.info()"
   ]
  },
  {
   "cell_type": "code",
   "execution_count": 15,
   "id": "e5a13e03",
   "metadata": {},
   "outputs": [
    {
     "data": {
      "text/plain": [
       "(364099, 8)"
      ]
     },
     "execution_count": 15,
     "metadata": {},
     "output_type": "execute_result"
    }
   ],
   "source": [
    "raw_review.shape"
   ]
  },
  {
   "cell_type": "code",
   "execution_count": 16,
   "id": "79765bfe",
   "metadata": {},
   "outputs": [
    {
     "data": {
      "text/plain": [
       "customer_id          0\n",
       "product_id           0\n",
       "name               430\n",
       "full_name        34628\n",
       "created_time    246759\n",
       "rating               0\n",
       "title               29\n",
       "content         198305\n",
       "dtype: int64"
      ]
     },
     "execution_count": 16,
     "metadata": {},
     "output_type": "execute_result"
    }
   ],
   "source": [
    "raw_review.isna().sum()"
   ]
  },
  {
   "cell_type": "markdown",
   "id": "84dca8b1",
   "metadata": {},
   "source": [
    "Nhận xét: 3 cột cần sử dụng là customer_id, product_id,rating không có null => không cần thiết xóa giá trị null của các cột còn lại"
   ]
  },
  {
   "cell_type": "markdown",
   "id": "167fcbcc",
   "metadata": {},
   "source": [
    "## Xóa dữ liệu trùng lặp"
   ]
  },
  {
   "cell_type": "code",
   "execution_count": 17,
   "id": "f87bb809",
   "metadata": {},
   "outputs": [
    {
     "data": {
      "text/plain": [
       "2349"
      ]
     },
     "execution_count": 17,
     "metadata": {},
     "output_type": "execute_result"
    }
   ],
   "source": [
    "raw_review.duplicated().sum()"
   ]
  },
  {
   "cell_type": "code",
   "execution_count": 18,
   "id": "64645c25",
   "metadata": {},
   "outputs": [],
   "source": [
    "raw_review=raw_review.drop_duplicates()"
   ]
  },
  {
   "cell_type": "code",
   "execution_count": 19,
   "id": "40d4da19",
   "metadata": {},
   "outputs": [
    {
     "name": "stdout",
     "output_type": "stream",
     "text": [
      "<class 'pandas.core.frame.DataFrame'>\n",
      "Int64Index: 361750 entries, 0 to 364098\n",
      "Data columns (total 8 columns):\n",
      " #   Column        Non-Null Count   Dtype \n",
      "---  ------        --------------   ----- \n",
      " 0   customer_id   361750 non-null  int64 \n",
      " 1   product_id    361750 non-null  int64 \n",
      " 2   name          361322 non-null  object\n",
      " 3   full_name     327147 non-null  object\n",
      " 4   created_time  116225 non-null  object\n",
      " 5   rating        361750 non-null  int64 \n",
      " 6   title         361721 non-null  object\n",
      " 7   content       165686 non-null  object\n",
      "dtypes: int64(3), object(5)\n",
      "memory usage: 24.8+ MB\n"
     ]
    }
   ],
   "source": [
    "raw_review.info()"
   ]
  },
  {
   "cell_type": "markdown",
   "id": "5214ea66",
   "metadata": {},
   "source": [
    "## Xóa sản phẩm không tồn tại"
   ]
  },
  {
   "cell_type": "code",
   "execution_count": 20,
   "id": "0ceac0d1",
   "metadata": {},
   "outputs": [],
   "source": [
    "raw_review=raw_review[raw_review['product_id'].isin(raw_product['item_id'])]"
   ]
  },
  {
   "cell_type": "code",
   "execution_count": 21,
   "id": "ea69d26a",
   "metadata": {},
   "outputs": [],
   "source": [
    "raw_review=raw_review.reset_index(drop=True)"
   ]
  },
  {
   "cell_type": "code",
   "execution_count": 22,
   "id": "32cd6bf8",
   "metadata": {},
   "outputs": [],
   "source": [
    "raw_review.to_csv('Review.csv',encoding='utf-8-sig')"
   ]
  },
  {
   "cell_type": "code",
   "execution_count": null,
   "id": "f4f497e1",
   "metadata": {},
   "outputs": [],
   "source": []
  }
 ],
 "metadata": {
  "kernelspec": {
   "display_name": "Python 3",
   "language": "python",
   "name": "python3"
  },
  "language_info": {
   "codemirror_mode": {
    "name": "ipython",
    "version": 3
   },
   "file_extension": ".py",
   "mimetype": "text/x-python",
   "name": "python",
   "nbconvert_exporter": "python",
   "pygments_lexer": "ipython3",
   "version": "3.6.8"
  }
 },
 "nbformat": 4,
 "nbformat_minor": 5
}
