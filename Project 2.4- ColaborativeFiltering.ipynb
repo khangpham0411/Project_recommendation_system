{
 "cells": [
  {
   "cell_type": "code",
   "execution_count": 1,
   "id": "1a0e4943",
   "metadata": {},
   "outputs": [],
   "source": [
    "import findspark\n",
    "findspark.init()"
   ]
  },
  {
   "cell_type": "code",
   "execution_count": 2,
   "id": "d6e29e70",
   "metadata": {},
   "outputs": [],
   "source": [
    "import pyspark\n",
    "from pyspark import SparkContext\n",
    "from pyspark.sql import SparkSession"
   ]
  },
  {
   "cell_type": "code",
   "execution_count": 3,
   "id": "77aa7031",
   "metadata": {},
   "outputs": [
    {
     "name": "stderr",
     "output_type": "stream",
     "text": [
      "C:\\spark\\spark-3.2.0-bin-hadoop2.7\\python\\pyspark\\context.py:238: FutureWarning: Python 3.6 support is deprecated in Spark 3.2.\n",
      "  FutureWarning\n"
     ]
    }
   ],
   "source": [
    "SparkContext.setSystemProperty('spark.executor.memory', '12g')\n",
    "sc = SparkContext(master='local',appName='Recommendation_product')"
   ]
  },
  {
   "cell_type": "markdown",
   "id": "1677f1ad",
   "metadata": {},
   "source": [
    "## Đọc dữ liệu"
   ]
  },
  {
   "cell_type": "code",
   "execution_count": 4,
   "id": "fc29d4b4",
   "metadata": {},
   "outputs": [],
   "source": [
    "spark=SparkSession(sc)"
   ]
  },
  {
   "cell_type": "code",
   "execution_count": 64,
   "id": "d37244e4",
   "metadata": {},
   "outputs": [],
   "source": [
    "product = spark.read.csv('Product.csv',inferSchema=True,header=True)"
   ]
  },
  {
   "cell_type": "code",
   "execution_count": 5,
   "id": "e77bf011",
   "metadata": {},
   "outputs": [],
   "source": [
    "data = spark.read.csv('Review.csv',inferSchema=True,header=True)"
   ]
  },
  {
   "cell_type": "code",
   "execution_count": 6,
   "id": "8f768dc3",
   "metadata": {},
   "outputs": [
    {
     "name": "stdout",
     "output_type": "stream",
     "text": [
      "+---+-----------+----------+--------------------+--------------------+-------------------+------+--------------------+--------------------+\n",
      "|_c0|customer_id|product_id|                name|           full_name|       created_time|rating|               title|             content|\n",
      "+---+-----------+----------+--------------------+--------------------+-------------------+------+--------------------+--------------------+\n",
      "|  0|     709310|  10001012|    Lân Nguyễn Hoàng|    Lân Nguyễn Hoàng|               null|     3|  Ko dùng đc thẻ nhớ|Lúcđầu quên thông...|\n",
      "|  1|   10701688|  10001012|    Nguyễn Khánh Hòa|    Nguyễn Khánh Hòa|               null|     5|     Cực kì hài lòng|Tiki giao hàng nh...|\n",
      "|  2|   11763074|  10001012|     Toàn Phạm Khánh|     Toàn Phạm Khánh|2019-04-17 15:42:45|     5|     Cực kì hài lòng|chất lượng camera...|\n",
      "|  3|    9909549|  10001012|   Nguyen Quang Minh|                null|               null|     5|        Rất hài lòng|Hàng được đóng gó...|\n",
      "|  4|    1827148|  10001012|         Phạm Bá Đức|         Phạm Bá Đức|               null|     5|     Cực kì hài lòng|dễ cài đặt, chất ...|\n",
      "|  5|     836951|  10001012|         Hanh Nguyen|         Hanh Nguyen|               null|     4|   Ho trợ nhiet tinh|Nha bán hàng tư v...|\n",
      "|  6|    2201560|  10001012|         Hoan Nguyen|         Hoan Nguyen|               null|     5|     Cực kì hài lòng|Sản phẩm dùng tốt...|\n",
      "|  7|     717029|  10001012|     Đinh Xuân Giang|     Đinh Xuân Giang|2015-07-23 11:36:34|     5|     Cực kì hài lòng|                null|\n",
      "|  8|   13132598|  10001012|           ĐẶNG BÁCH|           ĐẶNG BÁCH|2019-07-29 01:03:47|     5|     Cực kì hài lòng|                null|\n",
      "|  9|    5177413|  10001012|        Vu Vuong Duy|        Vu Vuong Duy|               null|     4|            Hài lòng|            hài lòng|\n",
      "| 10|   11360428|  10001012|           Trần Dũng|           Trần Dũng|               null|     5|     Cực kì hài lòng|             Rất tốt|\n",
      "| 11|   12501987|  10001012|        Vu Van Tuan |        Vu Van Tuan |               null|     5|     Cực kì hài lòng|                null|\n",
      "| 12|   12286743|  10001012|             Bo Dinh|             Bo Dinh|               null|     4|            Hài lòng|                null|\n",
      "| 13|   15356393|  10001012|         Canh Kha Ho|         Canh Kha Ho|               null|     5|     Cực kì hài lòng|                null|\n",
      "| 14|   14329244|  10001012|       Tran Đang Tai|       Tran Đang Tai|               null|     4|            Hài lòng|                null|\n",
      "| 15|   14634037|  10001012|    Dương Ngọc Nhân |    Dương Ngọc Nhân |               null|     5|     Cực kì hài lòng|                null|\n",
      "| 16|   16136723|  10001012|        Phạm Hồng Sử|        Phạm Hồng Sử|               null|     5|     Cực kì hài lòng|                null|\n",
      "| 17|       5899|  10001012|Nguyễn Thị Thanh Hải|Nguyễn Thị Thanh Hải|               null|     5|     Cực kì hài lòng|                null|\n",
      "| 18|    7455165|  10001324|      Trần Đình Sang|      Trần Đình Sang|               null|     5|hàng đúng . . như...|lắp vào xài được ...|\n",
      "| 19|   17046856|  10001324|      Bạch Huy Thắng|      Bạch Huy Thắng|2020-04-07 11:38:47|     5|     Cực kì hài lòng|Giao hàng nhanh, ...|\n",
      "+---+-----------+----------+--------------------+--------------------+-------------------+------+--------------------+--------------------+\n",
      "only showing top 20 rows\n",
      "\n"
     ]
    }
   ],
   "source": [
    "data.show()"
   ]
  },
  {
   "cell_type": "code",
   "execution_count": 7,
   "id": "5e7b5817",
   "metadata": {},
   "outputs": [
    {
     "name": "stdout",
     "output_type": "stream",
     "text": [
      "root\n",
      " |-- _c0: string (nullable = true)\n",
      " |-- customer_id: string (nullable = true)\n",
      " |-- product_id: string (nullable = true)\n",
      " |-- name: string (nullable = true)\n",
      " |-- full_name: string (nullable = true)\n",
      " |-- created_time: string (nullable = true)\n",
      " |-- rating: string (nullable = true)\n",
      " |-- title: string (nullable = true)\n",
      " |-- content: string (nullable = true)\n",
      "\n"
     ]
    }
   ],
   "source": [
    "data.printSchema()"
   ]
  },
  {
   "cell_type": "code",
   "execution_count": 8,
   "id": "767bbbd0",
   "metadata": {},
   "outputs": [],
   "source": [
    "data_sub = data.select(['product_id','rating','customer_id'])"
   ]
  },
  {
   "cell_type": "code",
   "execution_count": 9,
   "id": "51b4df71",
   "metadata": {},
   "outputs": [],
   "source": [
    "# Distinct users and movies\n",
    "reviewers = data_sub.select('customer_id').distinct().count()\n",
    "product = data_sub.select('product_id').distinct().count()\n",
    "numerator = data_sub.count()"
   ]
  },
  {
   "cell_type": "code",
   "execution_count": 10,
   "id": "abaf4342",
   "metadata": {},
   "outputs": [
    {
     "data": {
      "text/plain": [
       "'tổng số khách hàng là'"
      ]
     },
     "metadata": {},
     "output_type": "display_data"
    },
    {
     "data": {
      "text/plain": [
       "251972"
      ]
     },
     "metadata": {},
     "output_type": "display_data"
    },
    {
     "data": {
      "text/plain": [
       "'tổng số sản phẩm là'"
      ]
     },
     "metadata": {},
     "output_type": "display_data"
    },
    {
     "data": {
      "text/plain": [
       "4618"
      ]
     },
     "metadata": {},
     "output_type": "display_data"
    },
    {
     "data": {
      "text/plain": [
       "'số lượt đánh giá sản phẩm là'"
      ]
     },
     "metadata": {},
     "output_type": "display_data"
    },
    {
     "data": {
      "text/plain": [
       "362797"
      ]
     },
     "metadata": {},
     "output_type": "display_data"
    }
   ],
   "source": [
    "display('tổng số khách hàng là',reviewers,'tổng số sản phẩm là',product,'số lượt đánh giá sản phẩm là',numerator)"
   ]
  },
  {
   "cell_type": "code",
   "execution_count": 11,
   "id": "ce0031fe",
   "metadata": {},
   "outputs": [],
   "source": [
    "from pyspark.sql.functions import isnan, when, count, col, udf"
   ]
  },
  {
   "cell_type": "markdown",
   "id": "7a4c3cb0",
   "metadata": {},
   "source": [
    "## Xóa dữ liệu null"
   ]
  },
  {
   "cell_type": "code",
   "execution_count": 12,
   "id": "24550dc9",
   "metadata": {},
   "outputs": [
    {
     "data": {
      "text/html": [
       "<div>\n",
       "<style scoped>\n",
       "    .dataframe tbody tr th:only-of-type {\n",
       "        vertical-align: middle;\n",
       "    }\n",
       "\n",
       "    .dataframe tbody tr th {\n",
       "        vertical-align: top;\n",
       "    }\n",
       "\n",
       "    .dataframe thead th {\n",
       "        text-align: right;\n",
       "    }\n",
       "</style>\n",
       "<table border=\"1\" class=\"dataframe\">\n",
       "  <thead>\n",
       "    <tr style=\"text-align: right;\">\n",
       "      <th></th>\n",
       "      <th>0</th>\n",
       "    </tr>\n",
       "  </thead>\n",
       "  <tbody>\n",
       "    <tr>\n",
       "      <th>product_id</th>\n",
       "      <td>1302</td>\n",
       "    </tr>\n",
       "    <tr>\n",
       "      <th>rating</th>\n",
       "      <td>1721</td>\n",
       "    </tr>\n",
       "    <tr>\n",
       "      <th>customer_id</th>\n",
       "      <td>853</td>\n",
       "    </tr>\n",
       "  </tbody>\n",
       "</table>\n",
       "</div>"
      ],
      "text/plain": [
       "                0\n",
       "product_id   1302\n",
       "rating       1721\n",
       "customer_id   853"
      ]
     },
     "execution_count": 12,
     "metadata": {},
     "output_type": "execute_result"
    }
   ],
   "source": [
    "# kiểm tra null\n",
    "data_sub.select([count(when(col(c).isNull(), c)).alias(c) for c in \n",
    "           data_sub.columns]).toPandas().T"
   ]
  },
  {
   "cell_type": "code",
   "execution_count": 13,
   "id": "5df86b46",
   "metadata": {},
   "outputs": [],
   "source": [
    "data_sub=data_sub.na.drop()"
   ]
  },
  {
   "cell_type": "code",
   "execution_count": 14,
   "id": "ff023df3",
   "metadata": {},
   "outputs": [
    {
     "data": {
      "text/html": [
       "<div>\n",
       "<style scoped>\n",
       "    .dataframe tbody tr th:only-of-type {\n",
       "        vertical-align: middle;\n",
       "    }\n",
       "\n",
       "    .dataframe tbody tr th {\n",
       "        vertical-align: top;\n",
       "    }\n",
       "\n",
       "    .dataframe thead th {\n",
       "        text-align: right;\n",
       "    }\n",
       "</style>\n",
       "<table border=\"1\" class=\"dataframe\">\n",
       "  <thead>\n",
       "    <tr style=\"text-align: right;\">\n",
       "      <th></th>\n",
       "      <th>0</th>\n",
       "    </tr>\n",
       "  </thead>\n",
       "  <tbody>\n",
       "    <tr>\n",
       "      <th>product_id</th>\n",
       "      <td>0</td>\n",
       "    </tr>\n",
       "    <tr>\n",
       "      <th>rating</th>\n",
       "      <td>0</td>\n",
       "    </tr>\n",
       "    <tr>\n",
       "      <th>customer_id</th>\n",
       "      <td>0</td>\n",
       "    </tr>\n",
       "  </tbody>\n",
       "</table>\n",
       "</div>"
      ],
      "text/plain": [
       "             0\n",
       "product_id   0\n",
       "rating       0\n",
       "customer_id  0"
      ]
     },
     "execution_count": 14,
     "metadata": {},
     "output_type": "execute_result"
    }
   ],
   "source": [
    "data_sub.select([count(when(col(c).isNull(), c)).alias(c) for c in \n",
    "           data_sub.columns]).toPandas().T"
   ]
  },
  {
   "cell_type": "markdown",
   "id": "f4794883",
   "metadata": {},
   "source": [
    "## Sửa kiểu dữ liệu của các  cột customer_id, product_id, rating => double"
   ]
  },
  {
   "cell_type": "code",
   "execution_count": 15,
   "id": "9b3e61b3",
   "metadata": {},
   "outputs": [],
   "source": [
    "from pyspark.ml.feature import StringIndexer\n",
    "from pyspark.ml import Pipeline\n",
    "from pyspark.sql.functions import col\n",
    "from pyspark.sql.types import DoubleType"
   ]
  },
  {
   "cell_type": "code",
   "execution_count": 16,
   "id": "3d935c18",
   "metadata": {},
   "outputs": [],
   "source": [
    "data_sub=data_sub.withColumn(\"rating\",data_sub.rating.cast(DoubleType()))"
   ]
  },
  {
   "cell_type": "code",
   "execution_count": 17,
   "id": "d910f6df",
   "metadata": {},
   "outputs": [
    {
     "data": {
      "text/html": [
       "<div>\n",
       "<style scoped>\n",
       "    .dataframe tbody tr th:only-of-type {\n",
       "        vertical-align: middle;\n",
       "    }\n",
       "\n",
       "    .dataframe tbody tr th {\n",
       "        vertical-align: top;\n",
       "    }\n",
       "\n",
       "    .dataframe thead th {\n",
       "        text-align: right;\n",
       "    }\n",
       "</style>\n",
       "<table border=\"1\" class=\"dataframe\">\n",
       "  <thead>\n",
       "    <tr style=\"text-align: right;\">\n",
       "      <th></th>\n",
       "      <th>0</th>\n",
       "    </tr>\n",
       "  </thead>\n",
       "  <tbody>\n",
       "    <tr>\n",
       "      <th>product_id</th>\n",
       "      <td>0</td>\n",
       "    </tr>\n",
       "    <tr>\n",
       "      <th>rating</th>\n",
       "      <td>27</td>\n",
       "    </tr>\n",
       "    <tr>\n",
       "      <th>customer_id</th>\n",
       "      <td>0</td>\n",
       "    </tr>\n",
       "  </tbody>\n",
       "</table>\n",
       "</div>"
      ],
      "text/plain": [
       "              0\n",
       "product_id    0\n",
       "rating       27\n",
       "customer_id   0"
      ]
     },
     "execution_count": 17,
     "metadata": {},
     "output_type": "execute_result"
    }
   ],
   "source": [
    "data_sub.select([count(when(col(c).isNull(), c)).alias(c) for c in \n",
    "           data_sub.columns]).toPandas().T"
   ]
  },
  {
   "cell_type": "markdown",
   "id": "09098f96",
   "metadata": {},
   "source": [
    "Nhận xét: Sau khi chuyển rating => kiểu double thì dữ liệu phát sinh Null => xóa thêm lần nữa"
   ]
  },
  {
   "cell_type": "code",
   "execution_count": 18,
   "id": "fdbbeaa5",
   "metadata": {},
   "outputs": [],
   "source": [
    "data_sub=data_sub.na.drop()"
   ]
  },
  {
   "cell_type": "code",
   "execution_count": 19,
   "id": "6cb3b1ca",
   "metadata": {},
   "outputs": [],
   "source": [
    "# Create an indexer\n",
    "indexer = StringIndexer(inputCol='product_id', \n",
    "                        outputCol='product_idx')\n",
    "\n",
    "# Indexer identifies categories in the data\n",
    "indexer_model = indexer.fit(data_sub)\n",
    "\n",
    "# Indexer creates a new column with numeric index values\n",
    "data_indexed = indexer_model.transform(data_sub)\n",
    "\n",
    "# Repeat the process for the other categorical feature\n",
    "indexer1 = StringIndexer(inputCol='customer_id', \n",
    "                         outputCol='customer_idx')\n",
    "indexer1_model = indexer1.fit(data_indexed)\n",
    "data_indexed = indexer1_model.transform(data_indexed)"
   ]
  },
  {
   "cell_type": "code",
   "execution_count": 20,
   "id": "429d23a7",
   "metadata": {},
   "outputs": [
    {
     "name": "stdout",
     "output_type": "stream",
     "text": [
      "root\n",
      " |-- product_id: string (nullable = true)\n",
      " |-- rating: double (nullable = true)\n",
      " |-- customer_id: string (nullable = true)\n",
      " |-- product_idx: double (nullable = false)\n",
      " |-- customer_idx: double (nullable = false)\n",
      "\n"
     ]
    }
   ],
   "source": [
    "data_indexed.printSchema()"
   ]
  },
  {
   "cell_type": "markdown",
   "id": "0dd2feb7",
   "metadata": {},
   "source": [
    "Nhận xét: 3 cột đều đã được chuyển sang double thành công"
   ]
  },
  {
   "cell_type": "markdown",
   "id": "ca078f48",
   "metadata": {},
   "source": [
    "## Buld Model ALS"
   ]
  },
  {
   "cell_type": "code",
   "execution_count": 21,
   "id": "b5a8a379",
   "metadata": {},
   "outputs": [],
   "source": [
    "training, testing = data_indexed.randomSplit([0.8,0.2])"
   ]
  },
  {
   "cell_type": "code",
   "execution_count": 22,
   "id": "e8ff0f0b",
   "metadata": {},
   "outputs": [],
   "source": [
    "from pyspark.ml.evaluation import RegressionEvaluator\n",
    "from pyspark.ml.recommendation import ALS"
   ]
  },
  {
   "cell_type": "code",
   "execution_count": 23,
   "id": "53c35327",
   "metadata": {},
   "outputs": [],
   "source": [
    "als_sub = ALS(maxIter=20, regParam=0.44,rank=150,\n",
    "         userCol='customer_idx', itemCol='product_idx', ratingCol='rating',\n",
    "         coldStartStrategy='drop',nonnegative=True)"
   ]
  },
  {
   "cell_type": "code",
   "execution_count": 24,
   "id": "f6f8a597",
   "metadata": {},
   "outputs": [],
   "source": [
    "model=als_sub.fit(training)"
   ]
  },
  {
   "cell_type": "code",
   "execution_count": 25,
   "id": "7471ea50",
   "metadata": {},
   "outputs": [
    {
     "name": "stdout",
     "output_type": "stream",
     "text": [
      "+-------+--------------------+------------------+-----------------+-----------------+-----------------+\n",
      "|summary|          product_id|            rating|      customer_id|      product_idx|     customer_idx|\n",
      "+-------+--------------------+------------------+-----------------+-----------------+-----------------+\n",
      "|  count|              288682|            288682|           288682|           288682|           288682|\n",
      "|   mean|2.4407264031113822E7| 4.474757691854705|9190223.706258098|587.6582952868554|93191.00962650945|\n",
      "| stddev|2.3789192574856587E7|1.0159247584633284|6308389.374471655|750.8995450978624|  78297.775142811|\n",
      "|    min|            10001012|               1.0|               10|              0.0|              0.0|\n",
      "|    max|             9996258|               5.0|          9999890|           4210.0|         251121.0|\n",
      "+-------+--------------------+------------------+-----------------+-----------------+-----------------+\n",
      "\n"
     ]
    }
   ],
   "source": [
    "training.describe().show()"
   ]
  },
  {
   "cell_type": "code",
   "execution_count": 26,
   "id": "8e0d3ce9",
   "metadata": {},
   "outputs": [
    {
     "name": "stdout",
     "output_type": "stream",
     "text": [
      "+-------+-------------------+------------------+-----------------+-----------------+-----------------+\n",
      "|summary|         product_id|            rating|      customer_id|      product_idx|     customer_idx|\n",
      "+-------+-------------------+------------------+-----------------+-----------------+-----------------+\n",
      "|  count|              72367|             72367|            72367|            72367|            72367|\n",
      "|   mean|2.439480028436995E7| 4.476418809678445|9134430.242569126| 582.635455387124|93620.34816974588|\n",
      "| stddev|2.376741217735122E7|1.0197826874692224|6305220.237035178|744.4526577916612|78337.60823268935|\n",
      "|    min|           10001012|               1.0|              100|              0.0|              0.0|\n",
      "|    max|            9996258|               5.0|          9999769|           4204.0|         251118.0|\n",
      "+-------+-------------------+------------------+-----------------+-----------------+-----------------+\n",
      "\n"
     ]
    }
   ],
   "source": [
    "testing.describe().show()"
   ]
  },
  {
   "cell_type": "markdown",
   "id": "c38690da",
   "metadata": {},
   "source": [
    "## Đánh giá kết quả "
   ]
  },
  {
   "cell_type": "code",
   "execution_count": 27,
   "id": "1a981864",
   "metadata": {},
   "outputs": [],
   "source": [
    "predictions = model.transform(testing)"
   ]
  },
  {
   "cell_type": "code",
   "execution_count": 28,
   "id": "9d8e9f7b",
   "metadata": {},
   "outputs": [
    {
     "name": "stdout",
     "output_type": "stream",
     "text": [
      "Root mean squared error =  1.1105112311977445\n"
     ]
    }
   ],
   "source": [
    "evaluator =  RegressionEvaluator(metricName='rmse',\n",
    "                                labelCol='rating',\n",
    "                                predictionCol='prediction')\n",
    "rmse= evaluator.evaluate(predictions)\n",
    "print('Root mean squared error = ', str(rmse))"
   ]
  },
  {
   "cell_type": "markdown",
   "id": "96102f26",
   "metadata": {},
   "source": [
    "Nhận xét: Kết quả Model là 1.1 (đã tuning nhiều lần) nhưng vẫn chưa bé hơn stde (1.01)"
   ]
  },
  {
   "cell_type": "markdown",
   "id": "b2824a6e",
   "metadata": {},
   "source": [
    "## Đề xuất cho User"
   ]
  },
  {
   "cell_type": "code",
   "execution_count": 29,
   "id": "e0675187",
   "metadata": {},
   "outputs": [],
   "source": [
    "from pyspark.sql.functions import col,explode"
   ]
  },
  {
   "cell_type": "code",
   "execution_count": 30,
   "id": "23c96705",
   "metadata": {},
   "outputs": [
    {
     "name": "stderr",
     "output_type": "stream",
     "text": [
      "C:\\spark\\spark-3.2.0-bin-hadoop2.7\\python\\pyspark\\sql\\context.py:127: FutureWarning: Deprecated in 3.0.0. Use SparkSession.builder.getOrCreate() instead.\n",
      "  FutureWarning\n"
     ]
    }
   ],
   "source": [
    "user_recs = model.recommendForAllUsers(5)"
   ]
  },
  {
   "cell_type": "code",
   "execution_count": 31,
   "id": "b9c74fb5",
   "metadata": {},
   "outputs": [
    {
     "name": "stdout",
     "output_type": "stream",
     "text": [
      "Row(customer_idx=1, recommendations=[Row(product_idx=4026, rating=5.252419471740723), Row(product_idx=3926, rating=4.952212810516357), Row(product_idx=3993, rating=4.919150352478027), Row(product_idx=3478, rating=4.8336405754089355), Row(product_idx=3919, rating=4.791848182678223)])\n",
      "Row(customer_idx=3, recommendations=[Row(product_idx=4026, rating=4.8788161277771), Row(product_idx=3993, rating=4.539760112762451), Row(product_idx=3926, rating=4.53629207611084), Row(product_idx=3478, rating=4.496156215667725), Row(product_idx=3919, rating=4.446391582489014)])\n",
      "Row(customer_idx=4, recommendations=[Row(product_idx=4026, rating=5.441257476806641), Row(product_idx=3926, rating=5.080391883850098), Row(product_idx=3993, rating=5.045040607452393), Row(product_idx=3478, rating=5.023173809051514), Row(product_idx=3919, rating=4.960630893707275)])\n"
     ]
    }
   ],
   "source": [
    "for user in user_recs.head(3):\n",
    "    print(user)"
   ]
  },
  {
   "cell_type": "code",
   "execution_count": 32,
   "id": "590080f6",
   "metadata": {},
   "outputs": [],
   "source": [
    "df_customer_id= data_indexed.select('customer_idx','customer_id').distinct()"
   ]
  },
  {
   "cell_type": "code",
   "execution_count": 33,
   "id": "1aafe7e5",
   "metadata": {},
   "outputs": [
    {
     "name": "stdout",
     "output_type": "stream",
     "text": [
      "+------------+-----------+\n",
      "|customer_idx|customer_id|\n",
      "+------------+-----------+\n",
      "|     10594.0|    8955703|\n",
      "|       359.0|   11110733|\n",
      "|     13897.0|   14425088|\n",
      "|    230391.0|    8051250|\n",
      "|      8448.0|     270593|\n",
      "+------------+-----------+\n",
      "only showing top 5 rows\n",
      "\n"
     ]
    }
   ],
   "source": [
    "df_customer_id.show(5)"
   ]
  },
  {
   "cell_type": "code",
   "execution_count": 34,
   "id": "6b7b60c7",
   "metadata": {},
   "outputs": [],
   "source": [
    "df_product_idx=data_indexed.select('product_idx','product_id').distinct()"
   ]
  },
  {
   "cell_type": "code",
   "execution_count": 35,
   "id": "d292e62b",
   "metadata": {},
   "outputs": [
    {
     "name": "stdout",
     "output_type": "stream",
     "text": [
      "+-----------+----------+\n",
      "|product_idx|product_id|\n",
      "+-----------+----------+\n",
      "|     2868.0|  12011510|\n",
      "|     2872.0|  15222490|\n",
      "|     2317.0|   1530039|\n",
      "|     3687.0|  19899003|\n",
      "|     1341.0|  26627033|\n",
      "+-----------+----------+\n",
      "only showing top 5 rows\n",
      "\n"
     ]
    }
   ],
   "source": [
    "df_product_idx.show(5)"
   ]
  },
  {
   "cell_type": "code",
   "execution_count": 36,
   "id": "774adc3c",
   "metadata": {},
   "outputs": [],
   "source": [
    "new_user_recs = user_recs.join(df_customer_id, on=['customer_idx'],how='left')"
   ]
  },
  {
   "cell_type": "code",
   "execution_count": 37,
   "id": "213422b4",
   "metadata": {},
   "outputs": [
    {
     "name": "stdout",
     "output_type": "stream",
     "text": [
      "+------------+--------------------+-----------+\n",
      "|customer_idx|     recommendations|customer_id|\n",
      "+------------+--------------------+-----------+\n",
      "|           1|[{4026, 5.2524195...|    7280719|\n",
      "|           3|[{4026, 4.878816}...|    7377207|\n",
      "|           4|[{4026, 5.4412575...|    1064154|\n",
      "|           5|[{4026, 5.5898585...|    1425077|\n",
      "|           6|[{4026, 5.477124}...|    1046981|\n",
      "|           7|[{4026, 5.506749}...|    6177374|\n",
      "|           8|[{4026, 5.4872737...|    6844844|\n",
      "|           9|[{4026, 5.4044127...|   10371235|\n",
      "|          12|[{4026, 5.2238784...|   11575918|\n",
      "|          13|[{4026, 5.4445252...|     151415|\n",
      "+------------+--------------------+-----------+\n",
      "only showing top 10 rows\n",
      "\n"
     ]
    }
   ],
   "source": [
    "new_user_recs.show(10)"
   ]
  },
  {
   "cell_type": "code",
   "execution_count": 42,
   "id": "431c226f",
   "metadata": {},
   "outputs": [],
   "source": [
    "def rec_sys_CF(new_user_recs,id):\n",
    "    find_user_rec = new_user_recs.filter(new_user_recs['customer_id'] == id)\n",
    "    user = find_user_rec.first() \n",
    "    lst = []\n",
    "    for row in user['recommendations']:   \n",
    "        row_f = df_product_idx.filter(df_product_idx.product_idx == row['product_idx'])  \n",
    "        row_f_first = row_f.first()\n",
    "        lst.append((row['product_idx'], row_f_first['product_id'], row['rating']))\n",
    "    dic_user_rec = {'customer_id' : user.customer_id, 'recommendations' :lst}\n",
    "    return dic_user_rec"
   ]
  },
  {
   "cell_type": "code",
   "execution_count": 43,
   "id": "f093dbfd",
   "metadata": {},
   "outputs": [],
   "source": [
    "results=rec_sys_CF(new_user_recs,709310)"
   ]
  },
  {
   "cell_type": "code",
   "execution_count": 45,
   "id": "707d7410",
   "metadata": {},
   "outputs": [
    {
     "data": {
      "text/plain": [
       "{'customer_id': '709310',\n",
       " 'recommendations': [(4026, '66251373', 3.167637348175049),\n",
       "  (3926, '73238633', 2.9528491497039795),\n",
       "  (3993, '50560427', 2.9364469051361084),\n",
       "  (3478, '53035877', 2.908506393432617),\n",
       "  (3919, '72520984', 2.877462148666382)]}"
      ]
     },
     "execution_count": 45,
     "metadata": {},
     "output_type": "execute_result"
    }
   ],
   "source": [
    "results"
   ]
  },
  {
   "cell_type": "markdown",
   "id": "97fc1126",
   "metadata": {},
   "source": [
    "## Chuẩn hóa dữ liệu cho User"
   ]
  },
  {
   "cell_type": "code",
   "execution_count": 46,
   "id": "7486f895",
   "metadata": {},
   "outputs": [],
   "source": [
    "from pyspark.sql.functions import col,explode"
   ]
  },
  {
   "cell_type": "code",
   "execution_count": 79,
   "id": "7aa507f8",
   "metadata": {},
   "outputs": [],
   "source": [
    "def recomendation(results):\n",
    "    lst=[]\n",
    "    for recc in results['recommendations']:\n",
    "        lst.append(recc[1])\n",
    "    print('Đây là 5 sản phẩm đề xuất cho người dùng là')\n",
    "    item = product.select('item_id','name').filter(product['item_id'].isin(lst))\n",
    "    item.show(truncate=False)"
   ]
  },
  {
   "cell_type": "code",
   "execution_count": 80,
   "id": "0f9e3f01",
   "metadata": {},
   "outputs": [
    {
     "name": "stdout",
     "output_type": "stream",
     "text": [
      "Đây là 5 sản phẩm đề xuất cho người dùng là\n",
      "+--------+------------------------------------------------------------------------------------------------------------------------------------------------------+\n",
      "|item_id |name                                                                                                                                                  |\n",
      "+--------+------------------------------------------------------------------------------------------------------------------------------------------------------+\n",
      "|66251373|Flycam Bugs 20 EIS Gimbal 1 trục + chống rung điện tử - Hàng chính hãng                                                                               |\n",
      "|72520984|Màn Hình Máy Tính Dell E2720HS 27 Inch FHD (1920 x 1080) 5ms 60Hz IPS Stereo Speakers - Hàng Chính Hãng                                               |\n",
      "|73238633|Ổ cứng di động External SSD Sandisk Extreme V2 E61 1TB USB 3.2 Gen 2 SDSSDE61-1T00-G25 - Hàng Chính Hãng                                              |\n",
      "|50560427|Tủ Lạnh Mini Aqua AQR-D59FA-BS (50L) - Hàng Chính Hãng - Chỉ giao tại Hà Nội                                                                          |\n",
      "|53035877|Bộ 2 loa treble cao cấp BX PT6 họng đúc, thiết kế chắc chắn phù hợp với mọi không gian, màu vàng đồng làm tăng sự sang trong cho dàn âm thanh của bạn.|\n",
      "+--------+------------------------------------------------------------------------------------------------------------------------------------------------------+\n",
      "\n"
     ]
    }
   ],
   "source": [
    "recomendation(results)"
   ]
  },
  {
   "cell_type": "code",
   "execution_count": null,
   "id": "3e3ee271",
   "metadata": {},
   "outputs": [],
   "source": []
  }
 ],
 "metadata": {
  "kernelspec": {
   "display_name": "Python 3",
   "language": "python",
   "name": "python3"
  },
  "language_info": {
   "codemirror_mode": {
    "name": "ipython",
    "version": 3
   },
   "file_extension": ".py",
   "mimetype": "text/x-python",
   "name": "python",
   "nbconvert_exporter": "python",
   "pygments_lexer": "ipython3",
   "version": "3.6.8"
  }
 },
 "nbformat": 4,
 "nbformat_minor": 5
}
