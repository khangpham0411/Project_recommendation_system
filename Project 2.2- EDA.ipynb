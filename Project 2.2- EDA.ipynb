{
 "cells": [
  {
   "cell_type": "code",
   "execution_count": 1,
   "id": "d3a6e8f9",
   "metadata": {},
   "outputs": [],
   "source": [
    "import numpy as np\n",
    "import pandas as pd\n",
    "import matplotlib.pyplot as plt\n",
    "import seaborn as sns\n",
    "%matplotlib inline"
   ]
  },
  {
   "cell_type": "markdown",
   "id": "1da2e263",
   "metadata": {},
   "source": [
    "# Product"
   ]
  },
  {
   "cell_type": "code",
   "execution_count": 2,
   "id": "28fb4601",
   "metadata": {},
   "outputs": [],
   "source": [
    "product = pd.read_csv('Product.csv',index_col=0)"
   ]
  },
  {
   "cell_type": "code",
   "execution_count": 3,
   "id": "ec203884",
   "metadata": {},
   "outputs": [
    {
     "data": {
      "text/html": [
       "<div>\n",
       "<style scoped>\n",
       "    .dataframe tbody tr th:only-of-type {\n",
       "        vertical-align: middle;\n",
       "    }\n",
       "\n",
       "    .dataframe tbody tr th {\n",
       "        vertical-align: top;\n",
       "    }\n",
       "\n",
       "    .dataframe thead th {\n",
       "        text-align: right;\n",
       "    }\n",
       "</style>\n",
       "<table border=\"1\" class=\"dataframe\">\n",
       "  <thead>\n",
       "    <tr style=\"text-align: right;\">\n",
       "      <th></th>\n",
       "      <th>item_id</th>\n",
       "      <th>name</th>\n",
       "      <th>description</th>\n",
       "      <th>rating</th>\n",
       "      <th>price</th>\n",
       "      <th>list_price</th>\n",
       "      <th>brand</th>\n",
       "      <th>group</th>\n",
       "      <th>url</th>\n",
       "      <th>image</th>\n",
       "    </tr>\n",
       "  </thead>\n",
       "  <tbody>\n",
       "    <tr>\n",
       "      <th>0</th>\n",
       "      <td>48102821</td>\n",
       "      <td>Tai nghe Bluetooth Inpods 12 - Cảm biến vân ta...</td>\n",
       "      <td>THÔNG TIN CHI TIẾT\\nDung lượng pin 300\\nThời g...</td>\n",
       "      <td>4.0</td>\n",
       "      <td>77000</td>\n",
       "      <td>300000</td>\n",
       "      <td>OEM</td>\n",
       "      <td>Thiết Bị Số - Phụ Kiện Số/Thiết Bị Âm Thanh và...</td>\n",
       "      <td>https://tai-nghe-bluetooth-inpods-12-cam-bien-...</td>\n",
       "      <td>https://salt.tikicdn.com/cache/280x280/ts/prod...</td>\n",
       "    </tr>\n",
       "    <tr>\n",
       "      <th>1</th>\n",
       "      <td>52333193</td>\n",
       "      <td>Tai nghe bluetooth không dây F9 True wireless ...</td>\n",
       "      <td>THÔNG TIN CHI TIẾT\\nDung lượng pin 2000mah\\nTh...</td>\n",
       "      <td>4.5</td>\n",
       "      <td>132000</td>\n",
       "      <td>750000</td>\n",
       "      <td>OEM</td>\n",
       "      <td>Thiết Bị Số - Phụ Kiện Số/Thiết Bị Âm Thanh và...</td>\n",
       "      <td>https://tai-nghe-bluetooth-khong-day-f9-true-w...</td>\n",
       "      <td>https://salt.tikicdn.com/cache/280x280/ts/prod...</td>\n",
       "    </tr>\n",
       "    <tr>\n",
       "      <th>2</th>\n",
       "      <td>299461</td>\n",
       "      <td>Chuột Không Dây Logitech M331 Silent - Hàng Ch...</td>\n",
       "      <td>THÔNG TIN CHI TIẾT\\nThương hiệu Logitech\\nĐộ p...</td>\n",
       "      <td>4.8</td>\n",
       "      <td>299000</td>\n",
       "      <td>399000</td>\n",
       "      <td>Logitech</td>\n",
       "      <td>Thiết Bị Số - Phụ Kiện Số/Phụ kiện máy tính và...</td>\n",
       "      <td>https://chuot-khong-day-logitech-m331-silent-p...</td>\n",
       "      <td>https://salt.tikicdn.com/cache/280x280/media/c...</td>\n",
       "    </tr>\n",
       "    <tr>\n",
       "      <th>3</th>\n",
       "      <td>57440329</td>\n",
       "      <td>Loa Bluetooth 5.0 Kiêm Đồng Hồ Báo Thức - [[ 2...</td>\n",
       "      <td>THÔNG TIN CHI TIẾT\\nThương hiệu Acome\\nXuất xứ...</td>\n",
       "      <td>4.7</td>\n",
       "      <td>149000</td>\n",
       "      <td>350000</td>\n",
       "      <td>Acome</td>\n",
       "      <td>Thiết Bị Số - Phụ Kiện Số/Thiết Bị Âm Thanh và...</td>\n",
       "      <td>https://loa-bluetooth-5-0-kiem-dong-ho-bao-thu...</td>\n",
       "      <td>https://salt.tikicdn.com/cache/280x280/ts/prod...</td>\n",
       "    </tr>\n",
       "    <tr>\n",
       "      <th>4</th>\n",
       "      <td>38458616</td>\n",
       "      <td>Tai Nghe Bluetooth Apple AirPods Pro True Wire...</td>\n",
       "      <td>THÔNG TIN CHI TIẾT\\nThương hiệu Apple\\nXuất xứ...</td>\n",
       "      <td>4.8</td>\n",
       "      <td>5090000</td>\n",
       "      <td>8500000</td>\n",
       "      <td>Apple</td>\n",
       "      <td>Thiết Bị Số - Phụ Kiện Số/Thiết Bị Âm Thanh và...</td>\n",
       "      <td>https://tai-nghe-bluetooth-apple-airpods-pro-t...</td>\n",
       "      <td>https://salt.tikicdn.com/cache/280x280/ts/prod...</td>\n",
       "    </tr>\n",
       "    <tr>\n",
       "      <th>...</th>\n",
       "      <td>...</td>\n",
       "      <td>...</td>\n",
       "      <td>...</td>\n",
       "      <td>...</td>\n",
       "      <td>...</td>\n",
       "      <td>...</td>\n",
       "      <td>...</td>\n",
       "      <td>...</td>\n",
       "      <td>...</td>\n",
       "      <td>...</td>\n",
       "    </tr>\n",
       "    <tr>\n",
       "      <th>4365</th>\n",
       "      <td>14497425</td>\n",
       "      <td>Máy Lạnh LG Inverter 1 HP V10APH</td>\n",
       "      <td>THÔNG TIN CHI TIẾT\\nCông suất làm lạnh 1.0HP\\n...</td>\n",
       "      <td>3.0</td>\n",
       "      <td>7790000</td>\n",
       "      <td>11090000</td>\n",
       "      <td>LG</td>\n",
       "      <td>Điện Tử - Điện Lạnh/Máy lạnh - Máy điều hòa</td>\n",
       "      <td>https://may-lanh-lg-inverter-1-hp-v10aph-p1449...</td>\n",
       "      <td>https://salt.tikicdn.com/cache/280x280/ts/prod...</td>\n",
       "    </tr>\n",
       "    <tr>\n",
       "      <th>4366</th>\n",
       "      <td>52294251</td>\n",
       "      <td>Micro Không Dây Alpha Works A1 Chính Hãng</td>\n",
       "      <td>THÔNG TIN CHI TIẾT\\nThương hiệu OEM\\nXuất xứ t...</td>\n",
       "      <td>0.0</td>\n",
       "      <td>1450000</td>\n",
       "      <td>1890000</td>\n",
       "      <td>OEM</td>\n",
       "      <td>Điện Tử - Điện Lạnh/Âm thanh &amp; Phụ kiện Tivi/M...</td>\n",
       "      <td>https://micro-khong-day-alpha-works-a1-chinh-h...</td>\n",
       "      <td>https://salt.tikicdn.com/cache/280x280/ts/prod...</td>\n",
       "    </tr>\n",
       "    <tr>\n",
       "      <th>4367</th>\n",
       "      <td>29246309</td>\n",
       "      <td>Máy sấy Electrolux 8 Kg EDV805JQSA</td>\n",
       "      <td>THÔNG TIN CHI TIẾT\\nBảng điều khiển Điều khiển...</td>\n",
       "      <td>4.4</td>\n",
       "      <td>8790000</td>\n",
       "      <td>11290000</td>\n",
       "      <td>Electrolux</td>\n",
       "      <td>Điện Tử - Điện Lạnh/Máy sấy quần áo</td>\n",
       "      <td>https://may-say-electrolux-8-kg-edv805jqsa-p29...</td>\n",
       "      <td>https://salt.tikicdn.com/cache/280x280/ts/prod...</td>\n",
       "    </tr>\n",
       "    <tr>\n",
       "      <th>4368</th>\n",
       "      <td>48574854</td>\n",
       "      <td>Bộ Chia 2 Pacific Dùng Chia Truyền Hình Cáp, A...</td>\n",
       "      <td>THÔNG TIN CHI TIẾT\\nThương hiệu Pacific\\nXuất ...</td>\n",
       "      <td>5.0</td>\n",
       "      <td>34000</td>\n",
       "      <td>49000</td>\n",
       "      <td>Pacific</td>\n",
       "      <td>Điện Tử - Điện Lạnh/Âm thanh &amp; Phụ kiện Tivi/P...</td>\n",
       "      <td>https://bo-chia-2-pacific-dung-chia-truyen-hin...</td>\n",
       "      <td>https://salt.tikicdn.com/cache/280x280/ts/prod...</td>\n",
       "    </tr>\n",
       "    <tr>\n",
       "      <th>4369</th>\n",
       "      <td>60228865</td>\n",
       "      <td>Micro Đôi Karaoke - Micro Không Dây MV 01 - Hà...</td>\n",
       "      <td>THÔNG TIN CHI TIẾT\\nThương hiệu Shubole\\nXuất ...</td>\n",
       "      <td>4.0</td>\n",
       "      <td>360000</td>\n",
       "      <td>500000</td>\n",
       "      <td>Shubole</td>\n",
       "      <td>Điện Tử - Điện Lạnh/Âm thanh &amp; Phụ kiện Tivi/M...</td>\n",
       "      <td>https://micro-doi-karaoke-micro-khong-day-mv-0...</td>\n",
       "      <td>https://salt.tikicdn.com/cache/280x280/ts/prod...</td>\n",
       "    </tr>\n",
       "  </tbody>\n",
       "</table>\n",
       "<p>4370 rows × 10 columns</p>\n",
       "</div>"
      ],
      "text/plain": [
       "       item_id                                               name  \\\n",
       "0     48102821  Tai nghe Bluetooth Inpods 12 - Cảm biến vân ta...   \n",
       "1     52333193  Tai nghe bluetooth không dây F9 True wireless ...   \n",
       "2       299461  Chuột Không Dây Logitech M331 Silent - Hàng Ch...   \n",
       "3     57440329  Loa Bluetooth 5.0 Kiêm Đồng Hồ Báo Thức - [[ 2...   \n",
       "4     38458616  Tai Nghe Bluetooth Apple AirPods Pro True Wire...   \n",
       "...        ...                                                ...   \n",
       "4365  14497425                   Máy Lạnh LG Inverter 1 HP V10APH   \n",
       "4366  52294251          Micro Không Dây Alpha Works A1 Chính Hãng   \n",
       "4367  29246309                 Máy sấy Electrolux 8 Kg EDV805JQSA   \n",
       "4368  48574854  Bộ Chia 2 Pacific Dùng Chia Truyền Hình Cáp, A...   \n",
       "4369  60228865  Micro Đôi Karaoke - Micro Không Dây MV 01 - Hà...   \n",
       "\n",
       "                                            description  rating    price  \\\n",
       "0     THÔNG TIN CHI TIẾT\\nDung lượng pin 300\\nThời g...     4.0    77000   \n",
       "1     THÔNG TIN CHI TIẾT\\nDung lượng pin 2000mah\\nTh...     4.5   132000   \n",
       "2     THÔNG TIN CHI TIẾT\\nThương hiệu Logitech\\nĐộ p...     4.8   299000   \n",
       "3     THÔNG TIN CHI TIẾT\\nThương hiệu Acome\\nXuất xứ...     4.7   149000   \n",
       "4     THÔNG TIN CHI TIẾT\\nThương hiệu Apple\\nXuất xứ...     4.8  5090000   \n",
       "...                                                 ...     ...      ...   \n",
       "4365  THÔNG TIN CHI TIẾT\\nCông suất làm lạnh 1.0HP\\n...     3.0  7790000   \n",
       "4366  THÔNG TIN CHI TIẾT\\nThương hiệu OEM\\nXuất xứ t...     0.0  1450000   \n",
       "4367  THÔNG TIN CHI TIẾT\\nBảng điều khiển Điều khiển...     4.4  8790000   \n",
       "4368  THÔNG TIN CHI TIẾT\\nThương hiệu Pacific\\nXuất ...     5.0    34000   \n",
       "4369  THÔNG TIN CHI TIẾT\\nThương hiệu Shubole\\nXuất ...     4.0   360000   \n",
       "\n",
       "      list_price       brand  \\\n",
       "0         300000         OEM   \n",
       "1         750000         OEM   \n",
       "2         399000    Logitech   \n",
       "3         350000       Acome   \n",
       "4        8500000       Apple   \n",
       "...          ...         ...   \n",
       "4365    11090000          LG   \n",
       "4366     1890000         OEM   \n",
       "4367    11290000  Electrolux   \n",
       "4368       49000     Pacific   \n",
       "4369      500000     Shubole   \n",
       "\n",
       "                                                  group  \\\n",
       "0     Thiết Bị Số - Phụ Kiện Số/Thiết Bị Âm Thanh và...   \n",
       "1     Thiết Bị Số - Phụ Kiện Số/Thiết Bị Âm Thanh và...   \n",
       "2     Thiết Bị Số - Phụ Kiện Số/Phụ kiện máy tính và...   \n",
       "3     Thiết Bị Số - Phụ Kiện Số/Thiết Bị Âm Thanh và...   \n",
       "4     Thiết Bị Số - Phụ Kiện Số/Thiết Bị Âm Thanh và...   \n",
       "...                                                 ...   \n",
       "4365        Điện Tử - Điện Lạnh/Máy lạnh - Máy điều hòa   \n",
       "4366  Điện Tử - Điện Lạnh/Âm thanh & Phụ kiện Tivi/M...   \n",
       "4367                Điện Tử - Điện Lạnh/Máy sấy quần áo   \n",
       "4368  Điện Tử - Điện Lạnh/Âm thanh & Phụ kiện Tivi/P...   \n",
       "4369  Điện Tử - Điện Lạnh/Âm thanh & Phụ kiện Tivi/M...   \n",
       "\n",
       "                                                    url  \\\n",
       "0     https://tai-nghe-bluetooth-inpods-12-cam-bien-...   \n",
       "1     https://tai-nghe-bluetooth-khong-day-f9-true-w...   \n",
       "2     https://chuot-khong-day-logitech-m331-silent-p...   \n",
       "3     https://loa-bluetooth-5-0-kiem-dong-ho-bao-thu...   \n",
       "4     https://tai-nghe-bluetooth-apple-airpods-pro-t...   \n",
       "...                                                 ...   \n",
       "4365  https://may-lanh-lg-inverter-1-hp-v10aph-p1449...   \n",
       "4366  https://micro-khong-day-alpha-works-a1-chinh-h...   \n",
       "4367  https://may-say-electrolux-8-kg-edv805jqsa-p29...   \n",
       "4368  https://bo-chia-2-pacific-dung-chia-truyen-hin...   \n",
       "4369  https://micro-doi-karaoke-micro-khong-day-mv-0...   \n",
       "\n",
       "                                                  image  \n",
       "0     https://salt.tikicdn.com/cache/280x280/ts/prod...  \n",
       "1     https://salt.tikicdn.com/cache/280x280/ts/prod...  \n",
       "2     https://salt.tikicdn.com/cache/280x280/media/c...  \n",
       "3     https://salt.tikicdn.com/cache/280x280/ts/prod...  \n",
       "4     https://salt.tikicdn.com/cache/280x280/ts/prod...  \n",
       "...                                                 ...  \n",
       "4365  https://salt.tikicdn.com/cache/280x280/ts/prod...  \n",
       "4366  https://salt.tikicdn.com/cache/280x280/ts/prod...  \n",
       "4367  https://salt.tikicdn.com/cache/280x280/ts/prod...  \n",
       "4368  https://salt.tikicdn.com/cache/280x280/ts/prod...  \n",
       "4369  https://salt.tikicdn.com/cache/280x280/ts/prod...  \n",
       "\n",
       "[4370 rows x 10 columns]"
      ]
     },
     "execution_count": 3,
     "metadata": {},
     "output_type": "execute_result"
    }
   ],
   "source": [
    "product"
   ]
  },
  {
   "cell_type": "code",
   "execution_count": 4,
   "id": "6c21fabb",
   "metadata": {},
   "outputs": [
    {
     "name": "stdout",
     "output_type": "stream",
     "text": [
      "Tiki hợp tác với 521 brands thuộc loại hàng điện tử\n"
     ]
    }
   ],
   "source": [
    "print('Tiki hợp tác với %d brands thuộc loại hàng điện tử'%(product['brand'].unique().shape))"
   ]
  },
  {
   "cell_type": "code",
   "execution_count": 5,
   "id": "122c86d5",
   "metadata": {},
   "outputs": [
    {
     "data": {
      "image/png": "[encoded data removed]",
      "text/plain": [
       "<Figure size 864x576 with 1 Axes>"
      ]
     },
     "metadata": {
      "needs_background": "light"
     },
     "output_type": "display_data"
    }
   ],
   "source": [
    "# Biểu đồ bar thể hiện số lượng sản phẩm của 10 hãng có nhiều sản phẩm nhất tiki\n",
    "brand_item= product.groupby('brand')['item_id'].count().reset_index()\n",
    "brand_item=brand_item.sort_values(by='item_id', ascending=False)\n",
    "plt.figure(figsize=(12,8))\n",
    "plt.bar(data=brand_item.head(10),x='brand',height='item_id')\n",
    "plt.xlabel('brands')\n",
    "plt.ylabel('items')\n",
    "plt.show()"
   ]
  },
  {
   "cell_type": "markdown",
   "id": "c60c12ca",
   "metadata": {},
   "source": [
    "Nhận xét:\n",
    "* Đây là 10 brands có lượng sản phẩm kinh doanh trên Tiki cao nhất\n",
    "* OEM có số lượng sản phẩm rất cao so với các brand còn lại của Tiki"
   ]
  },
  {
   "cell_type": "code",
   "execution_count": 6,
   "id": "cb00e979",
   "metadata": {},
   "outputs": [
    {
     "data": {
      "image/png": "[encoded data removed]",
      "text/plain": [
       "<Figure size 864x576 with 1 Axes>"
      ]
     },
     "metadata": {
      "needs_background": "light"
     },
     "output_type": "display_data"
    }
   ],
   "source": [
    "# Biểu đồ trung bình giá bán của mỗi brand\n",
    "brand_price=product.groupby('brand')['price'].mean().reset_index()\n",
    "brand_price=brand_price.sort_values(by='price', ascending=False)\n",
    "plt.figure(figsize=(12,8))\n",
    "plt.bar(data=brand_price.head(10),x='brand',height='price')\n",
    "plt.xlabel('brands')\n",
    "plt.ylabel('price')\n",
    "plt.show()"
   ]
  },
  {
   "cell_type": "markdown",
   "id": "cb22744a",
   "metadata": {},
   "source": [
    "Nhận xét:\n",
    "* Đây là 10 brands có trung bình giá các sản phẩm cao nhất \n",
    "* Hitachi có trung bình giá cao nhất"
   ]
  },
  {
   "cell_type": "code",
   "execution_count": 7,
   "id": "c50231f6",
   "metadata": {},
   "outputs": [
    {
     "data": {
      "image/png": "[encoded data removed]",
      "text/plain": [
       "<Figure size 864x576 with 1 Axes>"
      ]
     },
     "metadata": {
      "needs_background": "light"
     },
     "output_type": "display_data"
    }
   ],
   "source": [
    "# Biểu đồ rating các sản phẩm\n",
    "plt.figure(figsize=(12,8))\n",
    "sns.histplot(product.rating)\n",
    "plt.xlabel('ratings')\n",
    "plt.show()"
   ]
  },
  {
   "cell_type": "markdown",
   "id": "ad8a756b",
   "metadata": {},
   "source": [
    "Nhận xét:\n",
    "* Rating 5 sao và 0 sao chiếm số lượng lớn => Tiki có nhiều sản phẩm làm hài lòng khách hàng nhưng vẫn có rất nhiều sản phẩm rất tệ\n",
    "* Khách hàng rating chủ yếu dao động nhiều từ 3-5 sao"
   ]
  },
  {
   "cell_type": "markdown",
   "id": "796a9f81",
   "metadata": {},
   "source": [
    "# Review"
   ]
  },
  {
   "cell_type": "code",
   "execution_count": 8,
   "id": "b795c865",
   "metadata": {},
   "outputs": [],
   "source": [
    "review = pd.read_csv('review.csv',index_col=0)"
   ]
  },
  {
   "cell_type": "code",
   "execution_count": 9,
   "id": "834409f7",
   "metadata": {},
   "outputs": [
    {
     "data": {
      "text/html": [
       "<div>\n",
       "<style scoped>\n",
       "    .dataframe tbody tr th:only-of-type {\n",
       "        vertical-align: middle;\n",
       "    }\n",
       "\n",
       "    .dataframe tbody tr th {\n",
       "        vertical-align: top;\n",
       "    }\n",
       "\n",
       "    .dataframe thead th {\n",
       "        text-align: right;\n",
       "    }\n",
       "</style>\n",
       "<table border=\"1\" class=\"dataframe\">\n",
       "  <thead>\n",
       "    <tr style=\"text-align: right;\">\n",
       "      <th></th>\n",
       "      <th>customer_id</th>\n",
       "      <th>product_id</th>\n",
       "      <th>name</th>\n",
       "      <th>full_name</th>\n",
       "      <th>created_time</th>\n",
       "      <th>rating</th>\n",
       "      <th>title</th>\n",
       "      <th>content</th>\n",
       "    </tr>\n",
       "  </thead>\n",
       "  <tbody>\n",
       "    <tr>\n",
       "      <th>0</th>\n",
       "      <td>709310</td>\n",
       "      <td>10001012</td>\n",
       "      <td>Lân Nguyễn Hoàng</td>\n",
       "      <td>Lân Nguyễn Hoàng</td>\n",
       "      <td>NaN</td>\n",
       "      <td>3</td>\n",
       "      <td>Ko dùng đc thẻ nhớ</td>\n",
       "      <td>Lúcđầu quên thông tin nên dùng 512gb thì ko đc...</td>\n",
       "    </tr>\n",
       "    <tr>\n",
       "      <th>1</th>\n",
       "      <td>10701688</td>\n",
       "      <td>10001012</td>\n",
       "      <td>Nguyễn Khánh Hòa</td>\n",
       "      <td>Nguyễn Khánh Hòa</td>\n",
       "      <td>NaN</td>\n",
       "      <td>5</td>\n",
       "      <td>Cực kì hài lòng</td>\n",
       "      <td>Tiki giao hàng nhanh. Sản phẩm đúng như mô tả,...</td>\n",
       "    </tr>\n",
       "    <tr>\n",
       "      <th>2</th>\n",
       "      <td>11763074</td>\n",
       "      <td>10001012</td>\n",
       "      <td>Toàn Phạm Khánh</td>\n",
       "      <td>Toàn Phạm Khánh</td>\n",
       "      <td>2019-04-17 15:42:45</td>\n",
       "      <td>5</td>\n",
       "      <td>Cực kì hài lòng</td>\n",
       "      <td>chất lượng camera rõ nét, chống mưa nắng tuyệt...</td>\n",
       "    </tr>\n",
       "    <tr>\n",
       "      <th>3</th>\n",
       "      <td>9909549</td>\n",
       "      <td>10001012</td>\n",
       "      <td>Nguyen Quang Minh</td>\n",
       "      <td>NaN</td>\n",
       "      <td>NaN</td>\n",
       "      <td>5</td>\n",
       "      <td>Rất hài lòng</td>\n",
       "      <td>Hàng được đóng gói cẩn thận, giao hàng nhanh ,...</td>\n",
       "    </tr>\n",
       "    <tr>\n",
       "      <th>4</th>\n",
       "      <td>1827148</td>\n",
       "      <td>10001012</td>\n",
       "      <td>Phạm Bá Đức</td>\n",
       "      <td>Phạm Bá Đức</td>\n",
       "      <td>NaN</td>\n",
       "      <td>5</td>\n",
       "      <td>Cực kì hài lòng</td>\n",
       "      <td>dễ cài đặt, chất lượng tốt, chế độ xem hồng ng...</td>\n",
       "    </tr>\n",
       "    <tr>\n",
       "      <th>...</th>\n",
       "      <td>...</td>\n",
       "      <td>...</td>\n",
       "      <td>...</td>\n",
       "      <td>...</td>\n",
       "      <td>...</td>\n",
       "      <td>...</td>\n",
       "      <td>...</td>\n",
       "      <td>...</td>\n",
       "    </tr>\n",
       "    <tr>\n",
       "      <th>361046</th>\n",
       "      <td>16820553</td>\n",
       "      <td>9996258</td>\n",
       "      <td>Quang Hng</td>\n",
       "      <td>Quang Hng</td>\n",
       "      <td>NaN</td>\n",
       "      <td>5</td>\n",
       "      <td>Cực kì hài lòng</td>\n",
       "      <td>NaN</td>\n",
       "    </tr>\n",
       "    <tr>\n",
       "      <th>361047</th>\n",
       "      <td>5888640</td>\n",
       "      <td>9996258</td>\n",
       "      <td>Phan Thanh Tú</td>\n",
       "      <td>Phan Thanh Tú</td>\n",
       "      <td>NaN</td>\n",
       "      <td>5</td>\n",
       "      <td>Cực kì hài lòng</td>\n",
       "      <td>NaN</td>\n",
       "    </tr>\n",
       "    <tr>\n",
       "      <th>361048</th>\n",
       "      <td>12246414</td>\n",
       "      <td>9996258</td>\n",
       "      <td>Nguyên Hồng</td>\n",
       "      <td>Nguyên Hồng</td>\n",
       "      <td>NaN</td>\n",
       "      <td>5</td>\n",
       "      <td>Cực kì hài lòng</td>\n",
       "      <td>NaN</td>\n",
       "    </tr>\n",
       "    <tr>\n",
       "      <th>361049</th>\n",
       "      <td>14309619</td>\n",
       "      <td>9996258</td>\n",
       "      <td>Justin H Chiem</td>\n",
       "      <td>Justin H Chiem</td>\n",
       "      <td>NaN</td>\n",
       "      <td>5</td>\n",
       "      <td>Cực kì hài lòng</td>\n",
       "      <td>NaN</td>\n",
       "    </tr>\n",
       "    <tr>\n",
       "      <th>361050</th>\n",
       "      <td>7948382</td>\n",
       "      <td>9996258</td>\n",
       "      <td>Lê Gia Dũng</td>\n",
       "      <td>Lê Gia Dũng</td>\n",
       "      <td>2018-09-07 20:36:07</td>\n",
       "      <td>5</td>\n",
       "      <td>Cực kì hài lòng</td>\n",
       "      <td>NaN</td>\n",
       "    </tr>\n",
       "  </tbody>\n",
       "</table>\n",
       "<p>361051 rows × 8 columns</p>\n",
       "</div>"
      ],
      "text/plain": [
       "        customer_id  product_id               name         full_name  \\\n",
       "0            709310    10001012   Lân Nguyễn Hoàng  Lân Nguyễn Hoàng   \n",
       "1          10701688    10001012   Nguyễn Khánh Hòa  Nguyễn Khánh Hòa   \n",
       "2          11763074    10001012    Toàn Phạm Khánh   Toàn Phạm Khánh   \n",
       "3           9909549    10001012  Nguyen Quang Minh               NaN   \n",
       "4           1827148    10001012        Phạm Bá Đức       Phạm Bá Đức   \n",
       "...             ...         ...                ...               ...   \n",
       "361046     16820553     9996258          Quang Hng         Quang Hng   \n",
       "361047      5888640     9996258      Phan Thanh Tú     Phan Thanh Tú   \n",
       "361048     12246414     9996258        Nguyên Hồng       Nguyên Hồng   \n",
       "361049     14309619     9996258     Justin H Chiem    Justin H Chiem   \n",
       "361050      7948382     9996258        Lê Gia Dũng       Lê Gia Dũng   \n",
       "\n",
       "               created_time  rating               title  \\\n",
       "0                       NaN       3  Ko dùng đc thẻ nhớ   \n",
       "1                       NaN       5     Cực kì hài lòng   \n",
       "2       2019-04-17 15:42:45       5     Cực kì hài lòng   \n",
       "3                       NaN       5        Rất hài lòng   \n",
       "4                       NaN       5     Cực kì hài lòng   \n",
       "...                     ...     ...                 ...   \n",
       "361046                  NaN       5     Cực kì hài lòng   \n",
       "361047                  NaN       5     Cực kì hài lòng   \n",
       "361048                  NaN       5     Cực kì hài lòng   \n",
       "361049                  NaN       5     Cực kì hài lòng   \n",
       "361050  2018-09-07 20:36:07       5     Cực kì hài lòng   \n",
       "\n",
       "                                                  content  \n",
       "0       Lúcđầu quên thông tin nên dùng 512gb thì ko đc...  \n",
       "1       Tiki giao hàng nhanh. Sản phẩm đúng như mô tả,...  \n",
       "2       chất lượng camera rõ nét, chống mưa nắng tuyệt...  \n",
       "3       Hàng được đóng gói cẩn thận, giao hàng nhanh ,...  \n",
       "4       dễ cài đặt, chất lượng tốt, chế độ xem hồng ng...  \n",
       "...                                                   ...  \n",
       "361046                                                NaN  \n",
       "361047                                                NaN  \n",
       "361048                                                NaN  \n",
       "361049                                                NaN  \n",
       "361050                                                NaN  \n",
       "\n",
       "[361051 rows x 8 columns]"
      ]
     },
     "execution_count": 9,
     "metadata": {},
     "output_type": "execute_result"
    }
   ],
   "source": [
    "review"
   ]
  },
  {
   "cell_type": "code",
   "execution_count": 11,
   "id": "92920b84",
   "metadata": {},
   "outputs": [
    {
     "data": {
      "image/png": "[encoded data removed]",
      "text/plain": [
       "<Figure size 720x360 with 1 Axes>"
      ]
     },
     "metadata": {
      "needs_background": "light"
     },
     "output_type": "display_data"
    }
   ],
   "source": [
    "# Biểu đồ rating các sản phẩm trong file review\n",
    "avg_rating=review.groupby('product_id')['rating'].mean().reset_index()\n",
    "plt.figure(figsize=(10,5))\n",
    "sns.histplot(avg_rating['rating'])\n",
    "plt.xlabel('ratings')\n",
    "plt.show()"
   ]
  },
  {
   "cell_type": "markdown",
   "id": "12286065",
   "metadata": {},
   "source": [
    "Nhận xét:\n",
    "* Rating của review đều > 0 => rating = 0 trong product do thiếu dữ liệu"
   ]
  },
  {
   "cell_type": "code",
   "execution_count": 12,
   "id": "450cd737",
   "metadata": {},
   "outputs": [],
   "source": [
    "# \n",
    "mst_review = review.groupby('customer_id')['product_id'].count().reset_index()\n",
    "mst_review=mst_review.sort_values(by='product_id',ascending=False)"
   ]
  },
  {
   "cell_type": "code",
   "execution_count": 13,
   "id": "8d22f3c1",
   "metadata": {},
   "outputs": [],
   "source": [
    "mst_review=mst_review.sort_values(by='product_id',ascending=False)"
   ]
  },
  {
   "cell_type": "code",
   "execution_count": 14,
   "id": "10aeff1c",
   "metadata": {},
   "outputs": [],
   "source": [
    "mst_review=mst_review.head(10)"
   ]
  },
  {
   "cell_type": "code",
   "execution_count": 16,
   "id": "c2f1e1df",
   "metadata": {},
   "outputs": [
    {
     "data": {
      "text/html": [
       "<div>\n",
       "<style scoped>\n",
       "    .dataframe tbody tr th:only-of-type {\n",
       "        vertical-align: middle;\n",
       "    }\n",
       "\n",
       "    .dataframe tbody tr th {\n",
       "        vertical-align: top;\n",
       "    }\n",
       "\n",
       "    .dataframe thead th {\n",
       "        text-align: right;\n",
       "    }\n",
       "</style>\n",
       "<table border=\"1\" class=\"dataframe\">\n",
       "  <thead>\n",
       "    <tr style=\"text-align: right;\">\n",
       "      <th></th>\n",
       "      <th>customer_id</th>\n",
       "      <th>product_id</th>\n",
       "    </tr>\n",
       "  </thead>\n",
       "  <tbody>\n",
       "    <tr>\n",
       "      <th>99558</th>\n",
       "      <td>7737978</td>\n",
       "      <td>50</td>\n",
       "    </tr>\n",
       "    <tr>\n",
       "      <th>91988</th>\n",
       "      <td>7280719</td>\n",
       "      <td>40</td>\n",
       "    </tr>\n",
       "    <tr>\n",
       "      <th>73768</th>\n",
       "      <td>6106142</td>\n",
       "      <td>37</td>\n",
       "    </tr>\n",
       "    <tr>\n",
       "      <th>93383</th>\n",
       "      <td>7377207</td>\n",
       "      <td>35</td>\n",
       "    </tr>\n",
       "    <tr>\n",
       "      <th>30502</th>\n",
       "      <td>1064154</td>\n",
       "      <td>34</td>\n",
       "    </tr>\n",
       "    <tr>\n",
       "      <th>39261</th>\n",
       "      <td>1425077</td>\n",
       "      <td>32</td>\n",
       "    </tr>\n",
       "    <tr>\n",
       "      <th>30081</th>\n",
       "      <td>1046981</td>\n",
       "      <td>31</td>\n",
       "    </tr>\n",
       "    <tr>\n",
       "      <th>75131</th>\n",
       "      <td>6177374</td>\n",
       "      <td>30</td>\n",
       "    </tr>\n",
       "    <tr>\n",
       "      <th>85511</th>\n",
       "      <td>6844844</td>\n",
       "      <td>29</td>\n",
       "    </tr>\n",
       "    <tr>\n",
       "      <th>21565</th>\n",
       "      <td>717732</td>\n",
       "      <td>28</td>\n",
       "    </tr>\n",
       "  </tbody>\n",
       "</table>\n",
       "</div>"
      ],
      "text/plain": [
       "       customer_id  product_id\n",
       "99558      7737978          50\n",
       "91988      7280719          40\n",
       "73768      6106142          37\n",
       "93383      7377207          35\n",
       "30502      1064154          34\n",
       "39261      1425077          32\n",
       "30081      1046981          31\n",
       "75131      6177374          30\n",
       "85511      6844844          29\n",
       "21565       717732          28"
      ]
     },
     "execution_count": 16,
     "metadata": {},
     "output_type": "execute_result"
    }
   ],
   "source": [
    "mst_review"
   ]
  },
  {
   "cell_type": "code",
   "execution_count": 15,
   "id": "3aed3d37",
   "metadata": {},
   "outputs": [
    {
     "data": {
      "image/png": "[encoded data removed]",
      "text/plain": [
       "<Figure size 864x576 with 1 Axes>"
      ]
     },
     "metadata": {
      "needs_background": "light"
     },
     "output_type": "display_data"
    }
   ],
   "source": [
    "plt.figure(figsize=(12,8))\n",
    "sns.barplot(data=mst_review,x=mst_review['customer_id'],y=mst_review['product_id'])\n",
    "plt.show()"
   ]
  },
  {
   "cell_type": "markdown",
   "id": "047e3128",
   "metadata": {},
   "source": [
    "Nhận xét:\n",
    "* Top 10 khách hàng đã mua và đánh giá nhiều sản phẩm nhất (dao động từ 28 đến 50 sản phẩm)\n",
    "* Khách hàng top 1 đã mua và đánh giá tới 50 sản phẩm"
   ]
  },
  {
   "cell_type": "code",
   "execution_count": null,
   "id": "85985c68",
   "metadata": {},
   "outputs": [],
   "source": []
  }
 ],
 "metadata": {
  "kernelspec": {
   "display_name": "Python 3",
   "language": "python",
   "name": "python3"
  },
  "language_info": {
   "codemirror_mode": {
    "name": "ipython",
    "version": 3
   },
   "file_extension": ".py",
   "mimetype": "text/x-python",
   "name": "python",
   "nbconvert_exporter": "python",
   "pygments_lexer": "ipython3",
   "version": "3.6.8"
  }
 },
 "nbformat": 4,
 "nbformat_minor": 5
}
